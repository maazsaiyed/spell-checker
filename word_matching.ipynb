{
 "cells": [
  {
   "cell_type": "markdown",
   "id": "0ffa9871",
   "metadata": {},
   "source": [
    "# Spell Checker\n",
    "\n",
    "**Using Encoder to encode word and then comparing with all the words to find the best match.**"
   ]
  },
  {
   "cell_type": "markdown",
   "id": "2307f126",
   "metadata": {},
   "source": [
    "**Libraries**"
   ]
  },
  {
   "cell_type": "code",
   "execution_count": 16,
   "id": "2ed03ba6",
   "metadata": {},
   "outputs": [],
   "source": [
    "import numpy as np\n",
    "import tensorflow as tf\n",
    "import matplotlib.pyplot as plt\n",
    "\n",
    "from tqdm import tqdm\n",
    "from random import randint, sample, shuffle\n",
    "from tensorflow.keras import layers\n",
    "from sklearn.model_selection import train_test_split"
   ]
  },
  {
   "cell_type": "markdown",
   "id": "0e181ed7",
   "metadata": {},
   "source": [
    "**Constants**"
   ]
  },
  {
   "cell_type": "code",
   "execution_count": 17,
   "id": "c53975d8",
   "metadata": {},
   "outputs": [],
   "source": [
    "# Words which whose length/number of character are within\n",
    "# the range [MIN_LEN, MAX_LEN] inclusive will be used.\n",
    "MIN_LEN = 5\n",
    "MAX_LEN = 10\n",
    "\n",
    "# Small alphabets will be used only, remove number or special characters.\n",
    "# Space is used for padding.\n",
    "ALLOWED_CHARACTERS = \" \" + \"\".join([chr(i) for i in range(97, 123)])"
   ]
  },
  {
   "cell_type": "code",
   "execution_count": 18,
   "id": "ac074cca",
   "metadata": {},
   "outputs": [],
   "source": [
    "def read_dataset() -> []:\n",
    "    \"\"\"\n",
    "        Reads the file that contains correct words, each on new line.\n",
    "        Preprocess the words, which inlcudes, lower case, remove special characers,\n",
    "        remove words which are not in range of [MIN_LEN, MAX_LEN],\n",
    "        remove words which contains digits or special characters.\n",
    "        \n",
    "        Returns words list.\n",
    "    \"\"\"\n",
    "    # Reading file and spliting lines into words\n",
    "    dataset = open(\"words_list.txt\", \"r\").read().split(\"\\n\")\n",
    "\n",
    "    # Striping words with space and converting to lower case\n",
    "    dataset = list(map(lambda word: word.strip().lower(), dataset))\n",
    "\n",
    "    # Filtering the words which contains special characters\n",
    "    dataset = list(filter(lambda word: word.isalpha(), dataset))\n",
    "\n",
    "    # Filtering words which are in range of min_len and max_len\n",
    "    dataset = list(filter(lambda word: MIN_LEN <= len(word) <= MAX_LEN, dataset))\n",
    "    \n",
    "    return dataset\n",
    "\n",
    "def encode_string(word: str) -> []:\n",
    "    \"\"\"\n",
    "        Parameter:\n",
    "            word: string/word to be encoded into list of numbers.\n",
    "        \n",
    "        Returns:\n",
    "            encoded_word_array: integer list of size MAX_LEN\n",
    "    \"\"\"\n",
    "    if len(word) < MAX_LEN:\n",
    "        word = word + (\" \" * (MAX_LEN - len(word)))\n",
    "    elif len(word) > MAX_LEN:\n",
    "        word = word[:MAX_LEN]\n",
    "    \n",
    "    encoded_word_array = [ALLOWED_CHARACTERS.index(char) for char in word]\n",
    "    return encoded_word_array\n",
    "\n",
    "def decode_string(encoded_word_array: []) -> str:\n",
    "    \"\"\"\n",
    "        Parameter:\n",
    "            encoded_word_array: array which was encoded by the function 'encoded_string'.\n",
    "            \n",
    "        Returns:\n",
    "            word: decoded word/string from encoded_word_array.\n",
    "    \"\"\"\n",
    "    word = \"\".join([ALLOWED_CHARACTERS[char] for char in encoded_word_array])\n",
    "    return word.strip()\n",
    "\n",
    "def plot_predictions(x, y, title=None):\n",
    "    \"\"\"\n",
    "        Plots a bar chart of prediction percentage.\n",
    "    \"\"\"\n",
    "    plt.figure(figsize=(7, 4))\n",
    "    plt.bar(x, y.astype(np.float32), color=\"teal\")\n",
    "    plt.title(title)\n",
    "    plt.xlabel(\"Words\")\n",
    "    plt.ylabel(\"Prediction %\")\n",
    "    plt.show()\n",
    "    \n",
    "def plot_history(history, labels: [], ylabel: str = None):\n",
    "    plt.figure(figsize=(7, 5))\n",
    "    for label in labels:\n",
    "        plt.plot(history[label], label=label)\n",
    "    plt.title(\"Training History\")\n",
    "    \n",
    "    if ylabel:\n",
    "        plt.ylabel(ylabel)\n",
    "    plt.xlabel(\"No. epoch\")\n",
    "    plt.legend(loc=\"upper left\")\n",
    "    plt.show()"
   ]
  },
  {
   "cell_type": "code",
   "execution_count": 19,
   "id": "42ce56d6",
   "metadata": {},
   "outputs": [],
   "source": [
    "def gen_misspelled_word(word: str, neg_words_size: int, max_displacement: int = 1) -> []:\n",
    "    \"\"\"\n",
    "        Generates misspelled word from the give words. Add random character(s), \n",
    "        replace random character(s) and remove ramdom character(s) to generate misspelled words. \n",
    "        Number of character(s) that can be altered depends on max_displacement.\n",
    "        \n",
    "        Parameter:\n",
    "            word: string for which misspelled words are to be generated.\n",
    "            neg_words_size: number of misspelled words to be generated.\n",
    "            max_displacement: integer within the [1, len(word)]. number of characters that can be altered.\n",
    "            \n",
    "        Returns:\n",
    "            List of misspelled words.\n",
    "    \"\"\"\n",
    "    misspelled_words = [word]\n",
    "    word_len = len(word)\n",
    "    add_rand_size = (neg_words_size - 1) // 3\n",
    "    rep_rand_size = (neg_words_size - 1) // 3\n",
    "    rem_rand_size = neg_words_size - add_rand_size - rep_rand_size - 1\n",
    "\n",
    "    # Adding random character\n",
    "    for _ in range(add_rand_size):\n",
    "        rand_word = word\n",
    "\n",
    "        rand_dis = min(MAX_LEN - len(word), randint(1, max_displacement))\n",
    "        for _ in range(rand_dis):\n",
    "            rand_idx = randint(0, word_len - 1)\n",
    "            rand_chr = ALLOWED_CHARACTERS[randint(0, len(ALLOWED_CHARACTERS) - 1)]\n",
    "            rand_word = rand_word[:rand_idx] + rand_chr + rand_word[rand_idx:]\n",
    "\n",
    "        misspelled_words.append(rand_word)\n",
    "\n",
    "    # Changing random character\n",
    "    for _ in range(rep_rand_size):\n",
    "        rand_word = word\n",
    "\n",
    "        rand_dis = randint(1, max_displacement)\n",
    "        for _ in range(rand_dis):\n",
    "            rand_idx = randint(0, word_len - 1)\n",
    "            rand_chr = ALLOWED_CHARACTERS[randint(0, len(ALLOWED_CHARACTERS) - 1)]\n",
    "            rand_word = rand_word[:rand_idx] + rand_chr + rand_word[rand_idx + 1:]\n",
    "\n",
    "        misspelled_words.append(rand_word)\n",
    "        \n",
    "    # Removing random character\n",
    "    for _ in range(rem_rand_size):\n",
    "        rand_word = word\n",
    "\n",
    "        rand_dis = randint(1, max_displacement)\n",
    "        for _ in range(rand_dis):\n",
    "            rand_idx = randint(0, word_len - 1)\n",
    "            rand_word = rand_word[:rand_idx] + rand_word[rand_idx + 1:]\n",
    "\n",
    "        misspelled_words.append(rand_word)\n",
    "\n",
    "    return misspelled_words\n",
    "\n",
    "def gen_negative(word: str, size: int, max_displacement: int):\n",
    "    \"\"\"\n",
    "        Generates negative words i.e. combination of misspelled and correct words other than \n",
    "        the word provided.\n",
    "        \n",
    "        Parameters:\n",
    "            word: string for which negative words are generated.\n",
    "            size: number of negative words that needs to be generated.\n",
    "            max_displacement: integer within the [1, len(word)]. number of characters that can be altered.\n",
    "        \n",
    "        Returns:\n",
    "            List of negative words.\n",
    "            \n",
    "    \"\"\"\n",
    "    other_words = list(filter(lambda w: w != word and w[0] == word[0], words_list))\n",
    "    if not other_words:\n",
    "        other_words = list(filter(lambda w: w != word, words_list))\n",
    "    shuffle(other_words)\n",
    "    \n",
    "    negative = []\n",
    "    neg = 0\n",
    "    while neg < len(other_words) and len(negative) < size:\n",
    "        negative.extend(gen_misspelled_word(other_words[neg], 5, max_displacement))\n",
    "        neg = neg + 1\n",
    "        \n",
    "    while len(negative) < size:\n",
    "        neg = neg + 1 if neg + 1 < len(other_words) else 0\n",
    "        negative.append(other_words[neg])\n",
    "    else:\n",
    "        negative = negative[:size]\n",
    "    \n",
    "    return negative\n",
    "    \n",
    "\n",
    "def gen_dataset(size: int, max_displacement: int = 1):\n",
    "    \"\"\"\n",
    "        Generates dataset for incorrect and correct words.\n",
    "        \n",
    "        Parameters:\n",
    "            neg_words: integer. Number of misspelled words to be generated per word.\n",
    "            max_displacement: integer within the [1, len(word)]. number of characters that can be altered.\n",
    "            \n",
    "        Returns:\n",
    "            Encoded form of misspelled words and correct words and label.\n",
    "    \"\"\"\n",
    "    pos_size = size // 2\n",
    "    neg_size = size - pos_size\n",
    "    \n",
    "    input_1, input_2, target = [], [], []\n",
    "\n",
    "    for word in tqdm(words_list, desc=\"Generating dataset\"):\n",
    "        input_1.extend([encode_string(word) for _ in range(size)])\n",
    "        \n",
    "        # Positive Target\n",
    "        input_2.extend([encode_string(mw) for mw in gen_misspelled_word(word, pos_size, max_displacement)])\n",
    "        target.extend([1] * pos_size)\n",
    "        \n",
    "        # Negative Target\n",
    "        input_2.extend([encode_string(mw) for mw in gen_negative(word, neg_size, max_displacement)])\n",
    "        target.extend([0] * neg_size)\n",
    "\n",
    "    return np.array(input_1), np.array(input_2), np.array(target)"
   ]
  },
  {
   "cell_type": "markdown",
   "id": "6c1065cf",
   "metadata": {},
   "source": [
    "**Reading Dataset**"
   ]
  },
  {
   "cell_type": "code",
   "execution_count": 20,
   "id": "f820e2db",
   "metadata": {},
   "outputs": [
    {
     "name": "stdout",
     "output_type": "stream",
     "text": [
      "Word Count: 2045\n"
     ]
    }
   ],
   "source": [
    "# Reading words from file\n",
    "words_list = read_dataset()\n",
    "print(\"Word Count:\", len(words_list))"
   ]
  },
  {
   "cell_type": "markdown",
   "id": "e35c315e",
   "metadata": {},
   "source": [
    "**Encoding**"
   ]
  },
  {
   "cell_type": "code",
   "execution_count": 21,
   "id": "d8a7b543",
   "metadata": {},
   "outputs": [
    {
     "name": "stderr",
     "output_type": "stream",
     "text": [
      "Generating dataset: 100%|██████████| 2045/2045 [00:02<00:00, 795.91it/s]\n"
     ]
    },
    {
     "name": "stdout",
     "output_type": "stream",
     "text": [
      "Total size: 143150\n",
      "Train size: 100205\n",
      "Test size: 42945\n"
     ]
    }
   ],
   "source": [
    "# Generating encoded dataset from words\n",
    "input_1, input_2, target = gen_dataset(size=70, max_displacement=3)\n",
    "\n",
    "trainI1, testI1, trainI2, testI2, trainT, testT = train_test_split(input_1, input_2, target, test_size=0.3)\n",
    "\n",
    "print(f\"Total size: {len(input_1)}\")\n",
    "print(f\"Train size: {len(trainI1)}\")\n",
    "print(f\"Test size: {len(testI1)}\")"
   ]
  },
  {
   "cell_type": "markdown",
   "id": "19fef696",
   "metadata": {},
   "source": [
    "# Enocder"
   ]
  },
  {
   "cell_type": "code",
   "execution_count": 32,
   "id": "cd0caa71",
   "metadata": {},
   "outputs": [],
   "source": [
    "def euclidean_distance(inputs):\n",
    "    a, b = inputs\n",
    "    return tf.math.reduce_sum(tf.math.squared_difference(a, b), axis=1, keepdims=True)\n",
    "    \n",
    "def get_encoder():\n",
    "    \"\"\"\n",
    "        Encoder encodes the give encoded word to latent space.\n",
    "    \"\"\"\n",
    "    input_layer = layers.Input(shape=(MAX_LEN,), dtype=tf.int32)\n",
    "    \n",
    "    embeddings = layers.Embedding(len(ALLOWED_CHARACTERS), 64)(input_layer)\n",
    "    lstm_1 = layers.Bidirectional(layers.LSTM(32, return_sequences=True))(embeddings)\n",
    "    lstm_2 = layers.Bidirectional(layers.LSTM(32))(lstm_1)\n",
    "    \n",
    "    dropout_1 = layers.Dropout(0.1)(lstm_2)\n",
    "    dense_1 = layers.Dense(32, activation=\"tanh\", kernel_initializer=\"he_uniform\")(dropout_1)\n",
    "    dense_2 = layers.Dense(64, activation=\"tanh\", kernel_initializer=\"he_uniform\")(dense_1)\n",
    "    dropout_2 = layers.Dropout(0.1)(dense_2)\n",
    "    \n",
    "    output_layer = layers.Dense(128, activation=\"tanh\", kernel_initializer=\"he_uniform\")(dropout_2)\n",
    "    \n",
    "    model = tf.keras.models.Model(inputs=input_layer, outputs=output_layer)\n",
    "    \n",
    "    return model\n",
    "\n",
    "def get_spellchecker():\n",
    "    \"\"\"\n",
    "        Word matching from latent space generated by encoder.\n",
    "    \"\"\"\n",
    "    encoder = get_encoder()\n",
    "    \n",
    "    input_layer_1 = layers.Input(shape=(MAX_LEN,), dtype=tf.int32)\n",
    "    encoder_output_1 = encoder(input_layer_1, training=True)\n",
    "    \n",
    "    input_layer_2 = layers.Input(shape=(MAX_LEN,), dtype=tf.int32)\n",
    "    encoder_output_2 = encoder(input_layer_2, training=True)\n",
    "    \n",
    "    dist_layer = layers.Lambda(euclidean_distance)([encoder_output_1, encoder_output_2])\n",
    "    \n",
    "    output_layer = layers.Dense(1, activation=\"sigmoid\")(dist_layer)\n",
    "    \n",
    "    model = tf.keras.models.Model(inputs=[input_layer_1, input_layer_2], outputs=output_layer)\n",
    "    \n",
    "    return model"
   ]
  },
  {
   "cell_type": "code",
   "execution_count": 33,
   "id": "17564f58",
   "metadata": {
    "scrolled": true
   },
   "outputs": [],
   "source": [
    "model = get_spellchecker()\n",
    "model.compile(\n",
    "    optimizer=tf.optimizers.Adam(),\n",
    "    loss=tf.losses.BinaryCrossentropy(),\n",
    "    metrics=[\"accuracy\"]\n",
    ")"
   ]
  },
  {
   "cell_type": "markdown",
   "id": "9b66d545",
   "metadata": {},
   "source": [
    "**Training**"
   ]
  },
  {
   "cell_type": "code",
   "execution_count": 34,
   "id": "7dda08a2",
   "metadata": {},
   "outputs": [
    {
     "name": "stdout",
     "output_type": "stream",
     "text": [
      "Epoch 1/30\n",
      "2506/2506 [==============================] - 38s 12ms/step - loss: 0.4124 - accuracy: 0.8229 - val_loss: 0.3164 - val_accuracy: 0.8837\n",
      "Epoch 2/30\n",
      "2506/2506 [==============================] - 30s 12ms/step - loss: 0.2987 - accuracy: 0.8834 - val_loss: 0.2818 - val_accuracy: 0.8881\n",
      "Epoch 3/30\n",
      "2506/2506 [==============================] - 35s 14ms/step - loss: 0.2528 - accuracy: 0.9000 - val_loss: 0.2221 - val_accuracy: 0.9138\n",
      "Epoch 4/30\n",
      "2506/2506 [==============================] - 33s 13ms/step - loss: 0.2194 - accuracy: 0.9142 - val_loss: 0.2130 - val_accuracy: 0.9143\n",
      "Epoch 5/30\n",
      "2506/2506 [==============================] - 34s 13ms/step - loss: 0.2006 - accuracy: 0.9207 - val_loss: 0.1875 - val_accuracy: 0.9274\n",
      "Epoch 6/30\n",
      "2506/2506 [==============================] - 35s 14ms/step - loss: 0.1832 - accuracy: 0.9290 - val_loss: 0.1797 - val_accuracy: 0.9301\n",
      "Epoch 7/30\n",
      "2506/2506 [==============================] - 34s 14ms/step - loss: 0.1731 - accuracy: 0.9328 - val_loss: 0.1776 - val_accuracy: 0.9322\n",
      "Epoch 8/30\n",
      "2506/2506 [==============================] - 34s 14ms/step - loss: 0.1610 - accuracy: 0.9378 - val_loss: 0.1663 - val_accuracy: 0.9350\n",
      "Epoch 9/30\n",
      "2506/2506 [==============================] - 35s 14ms/step - loss: 0.1502 - accuracy: 0.9420 - val_loss: 0.1553 - val_accuracy: 0.9421\n",
      "Epoch 10/30\n",
      "2506/2506 [==============================] - 37s 15ms/step - loss: 0.1389 - accuracy: 0.9463 - val_loss: 0.1544 - val_accuracy: 0.9408\n",
      "Epoch 11/30\n",
      "2506/2506 [==============================] - 38s 15ms/step - loss: 0.1332 - accuracy: 0.9487 - val_loss: 0.1451 - val_accuracy: 0.9459\n",
      "Epoch 12/30\n",
      "2506/2506 [==============================] - 37s 15ms/step - loss: 0.1256 - accuracy: 0.9524 - val_loss: 0.1498 - val_accuracy: 0.9443\n"
     ]
    }
   ],
   "source": [
    "early_stopping = tf.keras.callbacks.EarlyStopping(\n",
    "    mode=\"min\",\n",
    "    monitor=\"val_loss\",\n",
    "    patience=1,\n",
    "    restore_best_weights=True\n",
    ")\n",
    "\n",
    "history = model.fit(\n",
    "    [trainI1, trainI2],\n",
    "    trainT, \n",
    "    epochs=30, \n",
    "    batch_size=32,\n",
    "    validation_split=0.2,\n",
    "    callbacks=early_stopping\n",
    ")"
   ]
  },
  {
   "cell_type": "code",
   "execution_count": 35,
   "id": "17b2a8bd",
   "metadata": {},
   "outputs": [
    {
     "data": {
      "image/png": "[encoded data removed]",
      "text/plain": [
       "<Figure size 504x360 with 1 Axes>"
      ]
     },
     "metadata": {
      "needs_background": "light"
     },
     "output_type": "display_data"
    },
    {
     "data": {
      "image/png": "[encoded data removed]",
      "text/plain": [
       "<Figure size 504x360 with 1 Axes>"
      ]
     },
     "metadata": {
      "needs_background": "light"
     },
     "output_type": "display_data"
    }
   ],
   "source": [
    "plot_history(history.history, [\"loss\", \"val_loss\"], ylabel=\"Loss\")\n",
    "plot_history(history.history, [\"accuracy\", \"val_accuracy\"], ylabel=\"Accuracy\")"
   ]
  },
  {
   "cell_type": "markdown",
   "id": "9e8473e9",
   "metadata": {},
   "source": [
    "**Testing**"
   ]
  },
  {
   "cell_type": "code",
   "execution_count": 42,
   "id": "024f5e80",
   "metadata": {},
   "outputs": [
    {
     "name": "stdout",
     "output_type": "stream",
     "text": [
      "1343/1343 [==============================] - 4s 3ms/step - loss: 0.1487 - accuracy: 0.9431\n",
      "Confusion Matrix:\n",
      "[[20106  1381]\n",
      " [ 1094 20364]]\n",
      "Precision Score: 0.9364911473902047\n",
      "Recall Score: 0.9490166837543107\n",
      "F1 Score: 0.9427123116450246\n"
     ]
    }
   ],
   "source": [
    "from sklearn.metrics import confusion_matrix, precision_score, recall_score, f1_score, precision_recall_curve\n",
    "\n",
    "model.evaluate([testI1, testI2], testT)\n",
    "\n",
    "predT = np.round(model.predict([testI1, testI2]).ravel())\n",
    "\n",
    "print(\"Confusion Matrix:\")\n",
    "print(confusion_matrix(testT, predT))\n",
    "\n",
    "print(\"Precision Score:\", precision_score(testT, predT))\n",
    "print(\"Recall Score:\", recall_score(testT, predT))\n",
    "print(\"F1 Score:\", f1_score(testT, predT))"
   ]
  },
  {
   "cell_type": "markdown",
   "id": "a9ee9ad1",
   "metadata": {},
   "source": [
    "**Prediction**"
   ]
  },
  {
   "cell_type": "code",
   "execution_count": 52,
   "id": "ca4c7c0c",
   "metadata": {
    "scrolled": false
   },
   "outputs": [
    {
     "data": {
      "image/png": "[encoded data removed]",
      "text/plain": [
       "<Figure size 504x288 with 1 Axes>"
      ]
     },
     "metadata": {
      "needs_background": "light"
     },
     "output_type": "display_data"
    },
    {
     "data": {
      "image/png": "[encoded data removed]",
      "text/plain": [
       "<Figure size 504x288 with 1 Axes>"
      ]
     },
     "metadata": {
      "needs_background": "light"
     },
     "output_type": "display_data"
    },
    {
     "data": {
      "image/png": "[encoded data removed]",
      "text/plain": [
       "<Figure size 504x288 with 1 Axes>"
      ]
     },
     "metadata": {
      "needs_background": "light"
     },
     "output_type": "display_data"
    },
    {
     "data": {
      "image/png": "[encoded data removed]",
      "text/plain": [
       "<Figure size 504x288 with 1 Axes>"
      ]
     },
     "metadata": {
      "needs_background": "light"
     },
     "output_type": "display_data"
    },
    {
     "data": {
      "image/png": "[encoded data removed]",
      "text/plain": [
       "<Figure size 504x288 with 1 Axes>"
      ]
     },
     "metadata": {
      "needs_background": "light"
     },
     "output_type": "display_data"
    }
   ],
   "source": [
    "predictions_words = [\"commit\", \"glong\", \"enjod\", \"docment\", \"pysician\"]\n",
    "correct_words = [\"commit\", \"along\", \"enjoy\", \"document\", \"physician\"]\n",
    "TOP = 5\n",
    "\n",
    "inputP1 = np.array([encode_string(pw) for pw in predictions_words])\n",
    "inputP2 = np.array([encode_string(w) for w in words_list])\n",
    "\n",
    "for i, eip in enumerate(inputP1):\n",
    "    encodedIP = np.repeat([eip], len(inputP2), axis=0)\n",
    "    match_predictions = model.predict([encodedIP, inputP2]).ravel()\n",
    "    words_match = [words_list[idx] for idx in np.argsort(match_predictions)[-TOP:][::-1]]\n",
    "    match_per = np.sort(match_predictions)[-TOP:][::-1]\n",
    "    \n",
    "    plot_predictions(words_match, match_per, title=f\"Incorrect: {predictions_words[i]}  Correct: {correct_words[i]}\")"
   ]
  },
  {
   "cell_type": "code",
   "execution_count": null,
   "id": "d92c3bdd",
   "metadata": {},
   "outputs": [],
   "source": []
  }
 ],
 "metadata": {
  "kernelspec": {
   "display_name": "Python 3",
   "language": "python",
   "name": "python3"
  },
  "language_info": {
   "codemirror_mode": {
    "name": "ipython",
    "version": 3
   },
   "file_extension": ".py",
   "mimetype": "text/x-python",
   "name": "python",
   "nbconvert_exporter": "python",
   "pygments_lexer": "ipython3",
   "version": "3.8.2"
  }
 },
 "nbformat": 4,
 "nbformat_minor": 5
}
