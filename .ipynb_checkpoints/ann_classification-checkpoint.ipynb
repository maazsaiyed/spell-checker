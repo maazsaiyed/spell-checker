{
 "cells": [
  {
   "cell_type": "markdown",
   "id": "0ffa9871",
   "metadata": {},
   "source": [
    "# Spell Checker\n",
    "\n",
    "**Simple Artificial Neural Network to classify misspelled words.**"
   ]
  },
  {
   "cell_type": "markdown",
   "id": "2307f126",
   "metadata": {},
   "source": [
    "**Libraries**"
   ]
  },
  {
   "cell_type": "code",
   "execution_count": 13,
   "id": "2ed03ba6",
   "metadata": {},
   "outputs": [],
   "source": [
    "import numpy as np\n",
    "import tensorflow as tf\n",
    "import matplotlib.pyplot as plt\n",
    "\n",
    "from tqdm import tqdm\n",
    "from random import randint\n",
    "from tensorflow.keras import layers\n",
    "from sklearn.preprocessing import LabelEncoder\n",
    "from sklearn.model_selection import train_test_split"
   ]
  },
  {
   "cell_type": "markdown",
   "id": "0e181ed7",
   "metadata": {},
   "source": [
    "**Constants**"
   ]
  },
  {
   "cell_type": "code",
   "execution_count": 14,
   "id": "c53975d8",
   "metadata": {},
   "outputs": [],
   "source": [
    "# Words which whose length/number of character are within\n",
    "# the range [MIN_LEN, MAX_LEN] inclusive will be used.\n",
    "MIN_LEN = 3\n",
    "MAX_LEN = 10\n",
    "\n",
    "# Small alphabets will be used only, remove number or special characters.\n",
    "# Space is used for padding.\n",
    "ALLOWED_CHARACTERS = \" \" + \"\".join([chr(i) for i in range(97, 123)])\n",
    "\n",
    "# Encoding string labels/correct words to numbers\n",
    "label_encoder = LabelEncoder()"
   ]
  },
  {
   "cell_type": "code",
   "execution_count": 46,
   "id": "ac074cca",
   "metadata": {},
   "outputs": [],
   "source": [
    "def read_dataset() -> []:\n",
    "    \"\"\"\n",
    "        Reads the file that contains correct words, each on new line.\n",
    "        Preprocess the words, which inlcudes, lower case, remove special characers,\n",
    "        remove words which are not in range of [MIN_LEN, MAX_LEN],\n",
    "        remove words which contains digits or special characters.\n",
    "        \n",
    "        Returns words list.\n",
    "    \"\"\"\n",
    "    # Reading file and spliting lines into words\n",
    "    dataset = open(\"words_list.txt\", \"r\").read().split(\"\\n\")\n",
    "\n",
    "    # Striping words with space and converting to lower case\n",
    "    dataset = list(map(lambda word: word.strip().lower(), dataset))\n",
    "\n",
    "    # Filtering the words which contains special characters\n",
    "    dataset = list(filter(lambda word: word.isalpha(), dataset))\n",
    "\n",
    "    # Filtering words which are in range of min_len and max_len\n",
    "    dataset = list(filter(lambda word: MIN_LEN <= len(word) <= MAX_LEN, dataset))\n",
    "    \n",
    "    return dataset\n",
    "\n",
    "def encode_string(word: str) -> []:\n",
    "    \"\"\"\n",
    "        Parameter:\n",
    "            word: string/word to be encoded into list of numbers.\n",
    "        \n",
    "        Returns:\n",
    "            encoded_word_array: integer list of size MAX_LEN\n",
    "    \"\"\"\n",
    "    if len(word) < MAX_LEN:\n",
    "        word = word + (\" \" * (MAX_LEN - len(word)))\n",
    "    elif len(word) > MAX_LEN:\n",
    "        word = word[:MAX_LEN]\n",
    "    \n",
    "    encoded_word_array = [ALLOWED_CHARACTERS.index(char) for char in word]\n",
    "    return encoded_word_array\n",
    "\n",
    "def decode_string(encoded_word_array: []) -> str:\n",
    "    \"\"\"\n",
    "        Parameter:\n",
    "            encoded_word_array: array which was encoded by the function 'encoded_string'.\n",
    "            \n",
    "        Returns:\n",
    "            word: decoded word/string from encoded_word_array.\n",
    "    \"\"\"\n",
    "    word = \"\".join([ALLOWED_CHARACTERS[char] for char in encoded_word_array])\n",
    "    return word.strip()\n",
    "\n",
    "def plot_predictions(x, y, title=None):\n",
    "    \"\"\"\n",
    "        Plots a bar chart of prediction percentage.\n",
    "    \"\"\"\n",
    "    plt.figure(figsize=(5, 4))\n",
    "    plt.bar(x, y.astype(np.float32), color=\"teal\")\n",
    "    plt.title(title)\n",
    "    plt.xlabel(\"Words\")\n",
    "    plt.ylabel(\"Prediction %\")\n",
    "    plt.show()\n",
    "    \n",
    "def plot_history(history, labels: [], ylabel: str = None):\n",
    "    plt.figure(figsize=(7, 5))\n",
    "    for label in labels:\n",
    "        plt.plot(history[label], label=label)\n",
    "    plt.title(\"Training History\")\n",
    "    \n",
    "    if ylabel:\n",
    "        plt.ylabel(ylabel)\n",
    "    plt.xlabel(\"No. epoch\")\n",
    "    plt.legend(loc=\"upper left\")\n",
    "    plt.show()"
   ]
  },
  {
   "cell_type": "code",
   "execution_count": 16,
   "id": "42ce56d6",
   "metadata": {},
   "outputs": [],
   "source": [
    "def gen_misspelled_word(word: str, neg_words_size: int, max_displacement: int = 1) -> []:\n",
    "    \"\"\"\n",
    "        Generates misspelled word from the give words. Add random character(s) and \n",
    "        replace random character(s) to generate misspelled words. Number of character(s) that can be\n",
    "        altered depends on max_displacement.\n",
    "        \n",
    "        Parameter:\n",
    "            word: string for which misspelled words are to be generated.\n",
    "            neg_words_size: number of misspelled words to be generated.\n",
    "            max_displacement: integer within the [1, len(word)]. number of characters that can be altered.\n",
    "            \n",
    "        Returns:\n",
    "            List of misspelled words.\n",
    "    \"\"\"\n",
    "    misspelled_words = [word]\n",
    "    word_len = len(word)\n",
    "    add_rand_size = (neg_words_size - 1) // 2\n",
    "    rep_rand_size = neg_words_size - add_rand_size - 1\n",
    "\n",
    "    # Adding random character\n",
    "    for _ in range(add_rand_size):\n",
    "        rand_word = word\n",
    "\n",
    "        rand_dis = min(MAX_LEN - len(word), randint(1, max_displacement))\n",
    "        for _ in range(rand_dis):\n",
    "            rand_idx = randint(0, word_len - 1)\n",
    "            rand_chr = ALLOWED_CHARACTERS[randint(0, len(ALLOWED_CHARACTERS) - 1)]\n",
    "            rand_word = rand_word[:rand_idx] + rand_chr + rand_word[rand_idx:]\n",
    "\n",
    "        misspelled_words.append(rand_word)\n",
    "\n",
    "    # Changing random character\n",
    "    for _ in range(rep_rand_size):\n",
    "        rand_word = word\n",
    "\n",
    "        rand_dis = randint(1, max_displacement)\n",
    "        for _ in range(rand_dis):\n",
    "            rand_idx = randint(0, word_len - 1)\n",
    "            rand_chr = ALLOWED_CHARACTERS[randint(0, len(ALLOWED_CHARACTERS) - 1)]\n",
    "            rand_word = rand_word[:rand_idx] + rand_chr + rand_word[rand_idx + 1:]\n",
    "\n",
    "        misspelled_words.append(rand_word)\n",
    "\n",
    "    return misspelled_words\n",
    "\n",
    "def generate_dataset(neg_words: int, max_displacement: int = 1):\n",
    "    \"\"\"\n",
    "        Generates dataset from incorrect and correct words.\n",
    "        \n",
    "        Parameters:\n",
    "            neg_words: integer. Number of misspelled words to be generated per word.\n",
    "            max_displacement: integer within the [1, len(word)]. number of characters that can be altered.\n",
    "            \n",
    "        Returns:\n",
    "            Encoded form of misspelled words and correct words.\n",
    "    \"\"\"\n",
    "    X, y = [], []\n",
    "    \n",
    "    for word in tqdm(words_list, desc=\"Generating dataset\"):\n",
    "        label = label_encoder.transform([word])[0]\n",
    "        X.extend([encode_string(mw) for mw in gen_misspelled_word(word, neg_words, max_displacement)])\n",
    "        y.extend([label for _ in range(neg_words)])\n",
    "        \n",
    "    return np.array(X), np.array(y)"
   ]
  },
  {
   "cell_type": "markdown",
   "id": "6c1065cf",
   "metadata": {},
   "source": [
    "**Reading Dataset**"
   ]
  },
  {
   "cell_type": "code",
   "execution_count": 17,
   "id": "f820e2db",
   "metadata": {},
   "outputs": [
    {
     "name": "stdout",
     "output_type": "stream",
     "text": [
      "Word Count: 2712\n"
     ]
    },
    {
     "data": {
      "text/plain": [
       "LabelEncoder()"
      ]
     },
     "execution_count": 17,
     "metadata": {},
     "output_type": "execute_result"
    }
   ],
   "source": [
    "# Reading words from file\n",
    "words_list = read_dataset()\n",
    "print(\"Word Count:\", len(words_list))\n",
    "\n",
    "# Encoding words to number for classification\n",
    "label_encoder.fit(words_list)"
   ]
  },
  {
   "cell_type": "markdown",
   "id": "e35c315e",
   "metadata": {},
   "source": [
    "**Encoding**"
   ]
  },
  {
   "cell_type": "code",
   "execution_count": 34,
   "id": "d8a7b543",
   "metadata": {},
   "outputs": [
    {
     "name": "stderr",
     "output_type": "stream",
     "text": [
      "Generating dataset: 100%|██████████| 2712/2712 [00:08<00:00, 328.65it/s]\n"
     ]
    },
    {
     "name": "stdout",
     "output_type": "stream",
     "text": [
      "Total size: 135600\n",
      "Train size: 108480\n",
      "Test size: 27120\n"
     ]
    }
   ],
   "source": [
    "# Generating encoded dataset from words\n",
    "X, y = generate_dataset(neg_words=50, max_displacement=2)\n",
    "\n",
    "trainX, testX, trainY, testY = train_test_split(X, y, test_size=.2)\n",
    "\n",
    "print(f\"Total size: {X.shape[0]}\")\n",
    "print(f\"Train size: {trainX.shape[0]}\")\n",
    "print(f\"Test size: {testX.shape[0]}\")"
   ]
  },
  {
   "cell_type": "markdown",
   "id": "19fef696",
   "metadata": {},
   "source": [
    "\n",
    "**Classification**"
   ]
  },
  {
   "cell_type": "code",
   "execution_count": 39,
   "id": "cd0caa71",
   "metadata": {},
   "outputs": [],
   "source": [
    "class SpellChecker(tf.keras.models.Model):\n",
    "    \"\"\"\n",
    "        Bidirection LSTM Classifier which predicts the correct words from misspelled words.\n",
    "    \"\"\"\n",
    "    def __init__(self, input_dim: int, output_dim: int):\n",
    "        super(SpellChecker, self).__init__()\n",
    "        \n",
    "        self.embdedding_1 = layers.Embedding(input_dim=input_dim, output_dim=64)\n",
    "        self.lstm_1 = layers.Bidirectional(layers.LSTM(64, return_sequences=True))\n",
    "        self.lstm_2 = layers.Bidirectional(layers.LSTM(64))\n",
    "\n",
    "        \n",
    "        self.dropout_1 = layers.Dropout(0.1)\n",
    "        self.dropout_2 = layers.Dropout(0.2)\n",
    "        \n",
    "        self.dense_1 = layers.Dense(20, activation=\"relu\", kernel_initializer=\"he_uniform\")\n",
    "        self.dense_2 = layers.Dense(64, activation=\"relu\", kernel_initializer=\"he_uniform\")\n",
    "        self.dense_3 = layers.Dense(128, activation=\"relu\", kernel_initializer=\"he_uniform\")\n",
    "        self.dense_4 = layers.Dense(256, activation=\"relu\", kernel_initializer=\"he_uniform\")\n",
    "        self.dense_5 = layers.Dense(512, activation=\"relu\", kernel_initializer=\"he_uniform\")\n",
    "        self.dense_6 = layers.Dense(256, activation=\"relu\", kernel_initializer=\"he_uniform\")\n",
    "        self.dense_7 = layers.Dense(128, activation=\"relu\", kernel_initializer=\"he_uniform\")\n",
    "        self.dense_8 = layers.Dense(64, activation=\"relu\", kernel_initializer=\"he_uniform\")\n",
    "        self.dense_9 = layers.Dense(output_dim, activation=\"softmax\")\n",
    "        \n",
    "    def call(self, inputs):\n",
    "        layer = self.embdedding_1(inputs)\n",
    "        layer = self.lstm_1(layer)\n",
    "        layer = self.lstm_2(layer)\n",
    "        layer = self.dropout_1(layer)\n",
    "        layer = self.dense_1(layer)\n",
    "        layer = self.dense_2(layer)\n",
    "        layer = self.dense_3(layer)\n",
    "        layer = self.dense_4(layer)\n",
    "        layer = self.dense_5(layer)\n",
    "        layer = self.dropout_2(layer)\n",
    "        layer = self.dense_6(layer)\n",
    "        layer = self.dense_7(layer)\n",
    "        layer = self.dense_8(layer)\n",
    "        layer = self.dense_9(layer)\n",
    "        \n",
    "        return layer"
   ]
  },
  {
   "cell_type": "code",
   "execution_count": 41,
   "id": "ec07cde9",
   "metadata": {},
   "outputs": [],
   "source": [
    "model = SpellChecker(input_dim=len(ALLOWED_CHARACTERS), output_dim=len(label_encoder.classes_))\n",
    "model.compile(\n",
    "    optimizer=tf.optimizers.Adamax(learning_rate=0.001),\n",
    "    loss=tf.losses.SparseCategoricalCrossentropy(),\n",
    "    metrics=[\"accuracy\"]\n",
    ")\n",
    "\n",
    "early_stopping = tf.keras.callbacks.EarlyStopping(\n",
    "    monitor=\"val_loss\",\n",
    "    mode=\"min\",\n",
    "    patience=2,\n",
    "    restore_best_weights=True\n",
    ")"
   ]
  },
  {
   "cell_type": "markdown",
   "id": "9b66d545",
   "metadata": {},
   "source": [
    "**Training**"
   ]
  },
  {
   "cell_type": "code",
   "execution_count": 42,
   "id": "277fe8a4",
   "metadata": {
    "scrolled": true
   },
   "outputs": [
    {
     "name": "stdout",
     "output_type": "stream",
     "text": [
      "Epoch 1/100\n",
      "5424/5424 [==============================] - 53s 9ms/step - loss: 7.7160 - accuracy: 6.2223e-04 - val_loss: 7.3875 - val_accuracy: 7.3746e-04\n",
      "Epoch 2/100\n",
      "5424/5424 [==============================] - 54s 10ms/step - loss: 7.1848 - accuracy: 0.0020 - val_loss: 6.9557 - val_accuracy: 0.0024\n",
      "Epoch 3/100\n",
      "5424/5424 [==============================] - 66s 12ms/step - loss: 6.6026 - accuracy: 0.0057 - val_loss: 6.4657 - val_accuracy: 0.0086\n",
      "Epoch 4/100\n",
      "5424/5424 [==============================] - 61s 11ms/step - loss: 6.1554 - accuracy: 0.0144 - val_loss: 6.0663 - val_accuracy: 0.0213\n",
      "Epoch 5/100\n",
      "5424/5424 [==============================] - 64s 12ms/step - loss: 5.8445 - accuracy: 0.0226 - val_loss: 5.8201 - val_accuracy: 0.0262\n",
      "Epoch 6/100\n",
      "5424/5424 [==============================] - 64s 12ms/step - loss: 5.6461 - accuracy: 0.0320 - val_loss: 5.6212 - val_accuracy: 0.0442\n",
      "Epoch 7/100\n",
      "5424/5424 [==============================] - 84s 15ms/step - loss: 5.4358 - accuracy: 0.0469 - val_loss: 5.3994 - val_accuracy: 0.0610\n",
      "Epoch 8/100\n",
      "5424/5424 [==============================] - 64s 12ms/step - loss: 5.1814 - accuracy: 0.0681 - val_loss: 5.1079 - val_accuracy: 0.0861\n",
      "Epoch 9/100\n",
      "5424/5424 [==============================] - 62s 11ms/step - loss: 4.8730 - accuracy: 0.0974 - val_loss: 4.7686 - val_accuracy: 0.1234\n",
      "Epoch 10/100\n",
      "5424/5424 [==============================] - 63s 12ms/step - loss: 4.5645 - accuracy: 0.1328 - val_loss: 4.4848 - val_accuracy: 0.1648\n",
      "Epoch 11/100\n",
      "5424/5424 [==============================] - 65s 12ms/step - loss: 4.2793 - accuracy: 0.1680 - val_loss: 4.2232 - val_accuracy: 0.1949\n",
      "Epoch 12/100\n",
      "5424/5424 [==============================] - 66s 12ms/step - loss: 4.0186 - accuracy: 0.2030 - val_loss: 3.9828 - val_accuracy: 0.2324\n",
      "Epoch 13/100\n",
      "5424/5424 [==============================] - 67s 12ms/step - loss: 3.7791 - accuracy: 0.2385 - val_loss: 3.7911 - val_accuracy: 0.2652\n",
      "Epoch 14/100\n",
      "5424/5424 [==============================] - 66s 12ms/step - loss: 3.5592 - accuracy: 0.2733 - val_loss: 3.5598 - val_accuracy: 0.3082\n",
      "Epoch 15/100\n",
      "5424/5424 [==============================] - 68s 12ms/step - loss: 3.3579 - accuracy: 0.3063 - val_loss: 3.4173 - val_accuracy: 0.3336\n",
      "Epoch 16/100\n",
      "5424/5424 [==============================] - 65s 12ms/step - loss: 3.1806 - accuracy: 0.3360 - val_loss: 3.2098 - val_accuracy: 0.3642\n",
      "Epoch 17/100\n",
      "5424/5424 [==============================] - 62s 11ms/step - loss: 3.0152 - accuracy: 0.3667 - val_loss: 3.0606 - val_accuracy: 0.3847\n",
      "Epoch 18/100\n",
      "5424/5424 [==============================] - 66s 12ms/step - loss: 2.8653 - accuracy: 0.3907 - val_loss: 2.9717 - val_accuracy: 0.4009\n",
      "Epoch 19/100\n",
      "5424/5424 [==============================] - 67s 12ms/step - loss: 2.7365 - accuracy: 0.4151 - val_loss: 2.8663 - val_accuracy: 0.4235\n",
      "Epoch 20/100\n",
      "5424/5424 [==============================] - 67s 12ms/step - loss: 2.6134 - accuracy: 0.4351 - val_loss: 2.7351 - val_accuracy: 0.4461\n",
      "Epoch 21/100\n",
      "5424/5424 [==============================] - 67s 12ms/step - loss: 2.5036 - accuracy: 0.4559 - val_loss: 2.6735 - val_accuracy: 0.4623\n",
      "Epoch 22/100\n",
      "5424/5424 [==============================] - 67s 12ms/step - loss: 2.4003 - accuracy: 0.4730 - val_loss: 2.5764 - val_accuracy: 0.4778\n",
      "Epoch 23/100\n",
      "5424/5424 [==============================] - 67s 12ms/step - loss: 2.3067 - accuracy: 0.4919 - val_loss: 2.4808 - val_accuracy: 0.4948\n",
      "Epoch 24/100\n",
      "5424/5424 [==============================] - 67s 12ms/step - loss: 2.2167 - accuracy: 0.5078 - val_loss: 2.4476 - val_accuracy: 0.4999\n",
      "Epoch 25/100\n",
      "5424/5424 [==============================] - 68s 12ms/step - loss: 2.1350 - accuracy: 0.5238 - val_loss: 2.3494 - val_accuracy: 0.5204\n",
      "Epoch 26/100\n",
      "5424/5424 [==============================] - 67s 12ms/step - loss: 2.0547 - accuracy: 0.5366 - val_loss: 2.3327 - val_accuracy: 0.5271\n",
      "Epoch 27/100\n",
      "5424/5424 [==============================] - 67s 12ms/step - loss: 1.9895 - accuracy: 0.5505 - val_loss: 2.2508 - val_accuracy: 0.5378\n",
      "Epoch 28/100\n",
      "5424/5424 [==============================] - 68s 13ms/step - loss: 1.9187 - accuracy: 0.5602 - val_loss: 2.2398 - val_accuracy: 0.5426\n",
      "Epoch 29/100\n",
      "5424/5424 [==============================] - 67s 12ms/step - loss: 1.8642 - accuracy: 0.5715 - val_loss: 2.1698 - val_accuracy: 0.5534\n",
      "Epoch 30/100\n",
      "5424/5424 [==============================] - 67s 12ms/step - loss: 1.8125 - accuracy: 0.5821 - val_loss: 2.1574 - val_accuracy: 0.5592\n",
      "Epoch 31/100\n",
      "5424/5424 [==============================] - 67s 12ms/step - loss: 1.7454 - accuracy: 0.5955 - val_loss: 2.0964 - val_accuracy: 0.5715\n",
      "Epoch 32/100\n",
      "5424/5424 [==============================] - 67s 12ms/step - loss: 1.7028 - accuracy: 0.6019 - val_loss: 2.0961 - val_accuracy: 0.5743\n",
      "Epoch 33/100\n",
      "5424/5424 [==============================] - 67s 12ms/step - loss: 1.6521 - accuracy: 0.6126 - val_loss: 2.0867 - val_accuracy: 0.5784\n",
      "Epoch 34/100\n",
      "5424/5424 [==============================] - 67s 12ms/step - loss: 1.6072 - accuracy: 0.6223 - val_loss: 2.0450 - val_accuracy: 0.5852\n",
      "Epoch 35/100\n",
      "5424/5424 [==============================] - 67s 12ms/step - loss: 1.5695 - accuracy: 0.6287 - val_loss: 2.0240 - val_accuracy: 0.5930\n",
      "Epoch 36/100\n",
      "5424/5424 [==============================] - 67s 12ms/step - loss: 1.5250 - accuracy: 0.6372 - val_loss: 2.0124 - val_accuracy: 0.5943\n",
      "Epoch 37/100\n",
      "5424/5424 [==============================] - 67s 12ms/step - loss: 1.4883 - accuracy: 0.6433 - val_loss: 1.9942 - val_accuracy: 0.5966\n",
      "Epoch 38/100\n",
      "5424/5424 [==============================] - 67s 12ms/step - loss: 1.4524 - accuracy: 0.6514 - val_loss: 1.9753 - val_accuracy: 0.6060\n",
      "Epoch 39/100\n",
      "5424/5424 [==============================] - 66s 12ms/step - loss: 1.4228 - accuracy: 0.6571 - val_loss: 1.9497 - val_accuracy: 0.6109\n",
      "Epoch 40/100\n",
      "5424/5424 [==============================] - 67s 12ms/step - loss: 1.3882 - accuracy: 0.6640 - val_loss: 1.9284 - val_accuracy: 0.6098\n",
      "Epoch 41/100\n",
      "5424/5424 [==============================] - 66s 12ms/step - loss: 1.3483 - accuracy: 0.6704 - val_loss: 1.9475 - val_accuracy: 0.6137\n",
      "Epoch 42/100\n",
      "5424/5424 [==============================] - 67s 12ms/step - loss: 1.3207 - accuracy: 0.6766 - val_loss: 1.8995 - val_accuracy: 0.6177\n",
      "Epoch 43/100\n",
      "5424/5424 [==============================] - 65s 12ms/step - loss: 1.2944 - accuracy: 0.6825 - val_loss: 1.9172 - val_accuracy: 0.6188\n",
      "Epoch 44/100\n",
      "5424/5424 [==============================] - 66s 12ms/step - loss: 1.2689 - accuracy: 0.6879 - val_loss: 1.8923 - val_accuracy: 0.6259\n",
      "Epoch 45/100\n",
      "5424/5424 [==============================] - 65s 12ms/step - loss: 1.2369 - accuracy: 0.6927 - val_loss: 1.8839 - val_accuracy: 0.6279\n",
      "Epoch 46/100\n",
      "5424/5424 [==============================] - 66s 12ms/step - loss: 1.2144 - accuracy: 0.6972 - val_loss: 1.8988 - val_accuracy: 0.6309\n",
      "Epoch 47/100\n",
      "5424/5424 [==============================] - 66s 12ms/step - loss: 1.1936 - accuracy: 0.7032 - val_loss: 1.8914 - val_accuracy: 0.6327\n"
     ]
    }
   ],
   "source": [
    "history = model.fit(\n",
    "    trainX, \n",
    "    trainY, \n",
    "    epochs=100, \n",
    "    batch_size=16,\n",
    "    validation_split=.2,\n",
    "    callbacks=early_stopping\n",
    ")"
   ]
  },
  {
   "cell_type": "code",
   "execution_count": 43,
   "id": "1119ed56",
   "metadata": {},
   "outputs": [
    {
     "data": {
      "image/png": "[encoded data removed]",
      "text/plain": [
       "<Figure size 504x360 with 1 Axes>"
      ]
     },
     "metadata": {
      "needs_background": "light"
     },
     "output_type": "display_data"
    },
    {
     "data": {
      "image/png": "[encoded data removed]",
      "text/plain": [
       "<Figure size 504x360 with 1 Axes>"
      ]
     },
     "metadata": {
      "needs_background": "light"
     },
     "output_type": "display_data"
    }
   ],
   "source": [
    "plot_history(history.history, [\"loss\", \"val_loss\"], ylabel=\"Loss\")\n",
    "plot_history(history.history, [\"accuracy\", \"val_accuracy\"], ylabel=\"Accuracy\")"
   ]
  },
  {
   "cell_type": "markdown",
   "id": "9e8473e9",
   "metadata": {},
   "source": [
    "**Testing**"
   ]
  },
  {
   "cell_type": "code",
   "execution_count": 44,
   "id": "024f5e80",
   "metadata": {},
   "outputs": [
    {
     "name": "stdout",
     "output_type": "stream",
     "text": [
      "848/848 [==============================] - 5s 4ms/step - loss: 1.9241 - accuracy: 0.6208\n"
     ]
    },
    {
     "data": {
      "text/plain": [
       "[1.924065351486206, 0.6207964420318604]"
      ]
     },
     "execution_count": 44,
     "metadata": {},
     "output_type": "execute_result"
    }
   ],
   "source": [
    "model.evaluate(testX, testY)"
   ]
  },
  {
   "cell_type": "markdown",
   "id": "a9ee9ad1",
   "metadata": {},
   "source": [
    "**Prediction**"
   ]
  },
  {
   "cell_type": "code",
   "execution_count": 47,
   "id": "ca4c7c0c",
   "metadata": {
    "scrolled": false
   },
   "outputs": [
    {
     "data": {
      "image/png": "[encoded data removed]",
      "text/plain": [
       "<Figure size 360x288 with 1 Axes>"
      ]
     },
     "metadata": {
      "needs_background": "light"
     },
     "output_type": "display_data"
    },
    {
     "data": {
      "image/png": "[encoded data removed]",
      "text/plain": [
       "<Figure size 360x288 with 1 Axes>"
      ]
     },
     "metadata": {
      "needs_background": "light"
     },
     "output_type": "display_data"
    },
    {
     "data": {
      "image/png": "[encoded data removed]",
      "text/plain": [
       "<Figure size 360x288 with 1 Axes>"
      ]
     },
     "metadata": {
      "needs_background": "light"
     },
     "output_type": "display_data"
    },
    {
     "data": {
      "image/png": "[encoded data removed]",
      "text/plain": [
       "<Figure size 360x288 with 1 Axes>"
      ]
     },
     "metadata": {
      "needs_background": "light"
     },
     "output_type": "display_data"
    },
    {
     "data": {
      "image/png": "[encoded data removed]",
      "text/plain": [
       "<Figure size 360x288 with 1 Axes>"
      ]
     },
     "metadata": {
      "needs_background": "light"
     },
     "output_type": "display_data"
    }
   ],
   "source": [
    "predX = testX[:50:10]\n",
    "trueX = [decode_string(x) for x in predX]\n",
    "trueY = label_encoder.inverse_transform(testY[:50:10])\n",
    "predY = model.predict(predX)\n",
    "\n",
    "for i in range(predY.shape[0]):\n",
    "    pred = predY[i]\n",
    "    pred = list(map(lambda x: round(x * 100, 5), pred))\n",
    "    pred = list(zip(pred, label_encoder.classes_))\n",
    "    pred = sorted(pred, key=lambda x: x[0], reverse=True)[:5]\n",
    "    pred = np.array(pred)\n",
    "    plot_predictions(pred[:, 1], pred[:, 0], title=f\"incorrect: {trueX[i]}, correct: {trueY[i]}\")"
   ]
  }
 ],
 "metadata": {
  "kernelspec": {
   "display_name": "Python 3",
   "language": "python",
   "name": "python3"
  },
  "language_info": {
   "codemirror_mode": {
    "name": "ipython",
    "version": 3
   },
   "file_extension": ".py",
   "mimetype": "text/x-python",
   "name": "python",
   "nbconvert_exporter": "python",
   "pygments_lexer": "ipython3",
   "version": "3.8.2"
  }
 },
 "nbformat": 4,
 "nbformat_minor": 5
}
