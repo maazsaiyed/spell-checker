{
 "cells": [
  {
   "cell_type": "markdown",
   "id": "0ffa9871",
   "metadata": {},
   "source": [
    "# Spell Checker"
   ]
  },
  {
   "cell_type": "markdown",
   "id": "2307f126",
   "metadata": {},
   "source": [
    "**Libraries**"
   ]
  },
  {
   "cell_type": "code",
   "execution_count": 1,
   "id": "2ed03ba6",
   "metadata": {},
   "outputs": [],
   "source": [
    "import numpy as np\n",
    "import tensorflow as tf\n",
    "import matplotlib.pyplot as plt\n",
    "\n",
    "from tqdm import tqdm\n",
    "from random import randint\n",
    "from tensorflow.keras import layers\n",
    "from sklearn.preprocessing import LabelEncoder\n",
    "from sklearn.model_selection import train_test_split"
   ]
  },
  {
   "cell_type": "markdown",
   "id": "0e181ed7",
   "metadata": {},
   "source": [
    "**Constants**"
   ]
  },
  {
   "cell_type": "code",
   "execution_count": 2,
   "id": "c53975d8",
   "metadata": {},
   "outputs": [],
   "source": [
    "# Words which whose length/number of character are within\n",
    "# the range [MIN_LEN, MAX_LEN] inclusive will be used.\n",
    "MIN_LEN = 5\n",
    "MAX_LEN = 10\n",
    "\n",
    "# Small alphabets will be used only, remove number or special characters.\n",
    "# Space is used for padding.\n",
    "ALLOWED_CHARACTERS = \" \" + \"\".join([chr(i) for i in range(97, 123)])\n",
    "\n",
    "# Encoding string labels/correct words to numbers\n",
    "label_encoder = LabelEncoder()"
   ]
  },
  {
   "cell_type": "code",
   "execution_count": 3,
   "id": "ccf53416",
   "metadata": {},
   "outputs": [],
   "source": [
    "def encode_string(word: str) -> []:\n",
    "    \"\"\"\n",
    "        Parameter:\n",
    "            word: string/word to be encoded into list of numbers.\n",
    "        \n",
    "        Returns:\n",
    "            encoded_word_array: integer list of size MAX_LEN\n",
    "    \"\"\"\n",
    "    if len(word) < MAX_LEN:\n",
    "        word = word + (\" \" * (MAX_LEN - len(word)))\n",
    "    elif len(word) > MAX_LEN:\n",
    "        word = word[:MAX_LEN]\n",
    "    \n",
    "    encoded_word_array = [ALLOWED_CHARACTERS.index(char) for char in word]\n",
    "    return encoded_word_array\n",
    "\n",
    "def decode_string(encoded_word_array: []) -> str:\n",
    "    \"\"\"\n",
    "        Parameter:\n",
    "            encoded_word_array: array which was encoded by the function 'encoded_string'.\n",
    "            \n",
    "        Returns:\n",
    "            word: decoded word/string from encoded_word_array.\n",
    "    \"\"\"\n",
    "    word = \"\".join([ALLOWED_CHARACTERS[char] for char in encoded_word_array])\n",
    "    return word.strip()\n",
    "\n",
    "def plot_predictions(x, y, title=None):\n",
    "    \"\"\"\n",
    "        Plots a bar chart of prediction percentage.\n",
    "    \"\"\"\n",
    "    plt.figure(figsize=(5, 4))\n",
    "    plt.bar(x, y.astype(np.float32), color=\"teal\")\n",
    "    plt.title(title)\n",
    "    plt.xlabel(\"Words\")\n",
    "    plt.ylabel(\"Prediction %\")\n",
    "    plt.show()\n",
    "    \n",
    "def plot_history(history, labels: [], ylabel: str = None):\n",
    "    plt.figure(figsize=(7, 5))\n",
    "    for label in labels:\n",
    "        plt.plot(history[label], label=label)\n",
    "    plt.title(\"Training History\")\n",
    "    \n",
    "    if ylabel:\n",
    "        plt.ylabel(ylabel)\n",
    "    plt.xlabel(\"No. epoch\")\n",
    "    plt.legend(loc=\"upper left\")\n",
    "    plt.show()"
   ]
  },
  {
   "cell_type": "markdown",
   "id": "2a471453",
   "metadata": {},
   "source": [
    "**Reading Dataset**"
   ]
  },
  {
   "cell_type": "code",
   "execution_count": 4,
   "id": "25407e61",
   "metadata": {},
   "outputs": [],
   "source": [
    "def read_dataset() -> []:\n",
    "    \"\"\"\n",
    "        Reads the file that contains correct words, each on new line.\n",
    "        Preprocess the words, which inlcudes, lower case, remove special characers,\n",
    "        remove words which are not in range of [MIN_LEN, MAX_LEN],\n",
    "        remove words which contains digits or special characters.\n",
    "        \n",
    "        Returns words list.\n",
    "    \"\"\"\n",
    "    # Reading file and spliting lines into words\n",
    "    dataset = open(\"words_list.txt\", \"r\").read().split(\"\\n\")\n",
    "\n",
    "    # Striping words with space and converting to lower case\n",
    "    dataset = list(map(lambda word: word.strip().lower(), dataset))\n",
    "\n",
    "    # Filtering the words which contains special characters\n",
    "    dataset = list(filter(lambda word: word.isalpha(), dataset))\n",
    "\n",
    "    # Filtering words which are in range of min_len and max_len\n",
    "    dataset = list(filter(lambda word: MIN_LEN <= len(word) <= MAX_LEN, dataset))\n",
    "    \n",
    "    return dataset"
   ]
  },
  {
   "cell_type": "code",
   "execution_count": 5,
   "id": "4b9c34ca",
   "metadata": {},
   "outputs": [
    {
     "name": "stdout",
     "output_type": "stream",
     "text": [
      "Word Count: 2045\n"
     ]
    },
    {
     "data": {
      "text/plain": [
       "LabelEncoder()"
      ]
     },
     "execution_count": 5,
     "metadata": {},
     "output_type": "execute_result"
    }
   ],
   "source": [
    "# Reading words from file\n",
    "words_list = read_dataset()\n",
    "print(\"Word Count:\", len(words_list))\n",
    "\n",
    "# Encoding words to number for classification\n",
    "label_encoder.fit(words_list)"
   ]
  },
  {
   "cell_type": "code",
   "execution_count": 6,
   "id": "42ce56d6",
   "metadata": {},
   "outputs": [],
   "source": [
    "def gen_misspelled_word(word: str, neg_words_size: int, max_displacement: int = 1) -> []:\n",
    "    \"\"\"\n",
    "        Generates misspelled word from the give words. Add random character(s), \n",
    "        replace random character(s) and remove ramdom character(s) to generate misspelled words. \n",
    "        Number of character(s) that can be altered depends on max_displacement.\n",
    "        \n",
    "        Parameter:\n",
    "            word: string for which misspelled words are to be generated.\n",
    "            neg_words_size: number of misspelled words to be generated.\n",
    "            max_displacement: integer within the [1, len(word)]. number of characters that can be altered.\n",
    "            \n",
    "        Returns:\n",
    "            List of misspelled words.\n",
    "    \"\"\"\n",
    "    misspelled_words = [word]\n",
    "    word_len = len(word)\n",
    "    add_rand_size = (neg_words_size - 1) // 3\n",
    "    rep_rand_size = (neg_words_size - 1) // 3\n",
    "    rem_rand_size = neg_words_size - add_rand_size - rep_rand_size - 1\n",
    "\n",
    "    # Adding random character\n",
    "    for _ in range(add_rand_size):\n",
    "        rand_word = word\n",
    "\n",
    "        rand_dis = min(MAX_LEN - len(word), randint(1, max_displacement))\n",
    "        for _ in range(rand_dis):\n",
    "            rand_idx = randint(0, word_len - 1)\n",
    "            rand_chr = ALLOWED_CHARACTERS[randint(1, len(ALLOWED_CHARACTERS) - 1)]\n",
    "            rand_word = rand_word[:rand_idx] + rand_chr + rand_word[rand_idx:]\n",
    "\n",
    "        misspelled_words.append(rand_word)\n",
    "\n",
    "    # Changing random character\n",
    "    for _ in range(rep_rand_size):\n",
    "        rand_word = word\n",
    "\n",
    "        rand_dis = randint(1, max_displacement)\n",
    "        for _ in range(rand_dis):\n",
    "            rand_idx = randint(0, word_len - 1)\n",
    "            rand_chr = ALLOWED_CHARACTERS[randint(1, len(ALLOWED_CHARACTERS) - 1)]\n",
    "            rand_word = rand_word[:rand_idx] + rand_chr + rand_word[rand_idx + 1:]\n",
    "\n",
    "        misspelled_words.append(rand_word)\n",
    "        \n",
    "    # Removing random character\n",
    "    for _ in range(rem_rand_size):\n",
    "        rand_word = word\n",
    "\n",
    "        rand_dis = randint(1, max_displacement)\n",
    "        for _ in range(rand_dis):\n",
    "            rand_idx = randint(0, word_len - 1)\n",
    "            rand_word = rand_word[:rand_idx] + rand_word[rand_idx + 1:]\n",
    "\n",
    "        misspelled_words.append(rand_word)\n",
    "\n",
    "    return misspelled_words\n",
    "\n",
    "def generate_dataset(neg_words: int, max_displacement: int = 1):\n",
    "    \"\"\"\n",
    "        Generates dataset from incorrect and correct words.\n",
    "        \n",
    "        Parameters:\n",
    "            neg_words: integer. Number of misspelled words to be generated per word.\n",
    "            max_displacement: integer within the [1, len(word)]. number of characters that can be altered.\n",
    "            \n",
    "        Returns:\n",
    "            Encoded form of misspelled words and correct words.\n",
    "    \"\"\"\n",
    "    X, y = [], []\n",
    "    \n",
    "    for word in tqdm(words_list, desc=\"Generating dataset\"):\n",
    "        label = label_encoder.transform([word])[0]\n",
    "        X.extend([encode_string(mw) for mw in gen_misspelled_word(word, neg_words, max_displacement)])\n",
    "        y.extend([label for _ in range(neg_words)])\n",
    "        \n",
    "    return np.array(X), np.array(y)"
   ]
  },
  {
   "cell_type": "markdown",
   "id": "e35c315e",
   "metadata": {},
   "source": [
    "**Encoding**"
   ]
  },
  {
   "cell_type": "code",
   "execution_count": 11,
   "id": "d8a7b543",
   "metadata": {},
   "outputs": [
    {
     "name": "stderr",
     "output_type": "stream",
     "text": [
      "Generating dataset: 100%|██████████████████████████████████████| 2045/2045 [00:04<00:00, 459.63it/s]\n"
     ]
    },
    {
     "name": "stdout",
     "output_type": "stream",
     "text": [
      "Total size: 102250\n",
      "Train size: 81800\n",
      "Test size: 20450\n"
     ]
    }
   ],
   "source": [
    "# Generating encoded dataset from words\n",
    "X, y = generate_dataset(neg_words=50, max_displacement=2)\n",
    "\n",
    "trainX, testX, trainY, testY = train_test_split(X, y, test_size=.2)\n",
    "\n",
    "print(f\"Total size: {X.shape[0]}\")\n",
    "print(f\"Train size: {trainX.shape[0]}\")\n",
    "print(f\"Test size: {testX.shape[0]}\")"
   ]
  },
  {
   "cell_type": "markdown",
   "id": "19fef696",
   "metadata": {},
   "source": [
    "\n",
    "**Classification**"
   ]
  },
  {
   "cell_type": "code",
   "execution_count": 13,
   "id": "cd0caa71",
   "metadata": {},
   "outputs": [],
   "source": [
    "class SpellChecker(tf.keras.models.Model):\n",
    "    \"\"\"\n",
    "        Bidirection LSTM Classifier which predicts the correct words from misspelled words.\n",
    "    \"\"\"\n",
    "    def __init__(self, input_dim: int, output_dim: int):\n",
    "        super(SpellChecker, self).__init__()\n",
    "        \n",
    "        self.embdedding_1 = layers.Embedding(input_dim=input_dim, output_dim=64)\n",
    "        self.lstm_1 = layers.LSTM(64)\n",
    "        \n",
    "        self.dense_1 = layers.Dense(64, activation=\"tanh\", kernel_initializer=\"he_uniform\")\n",
    "        self.dense_2 = layers.Dense(128, activation=\"relu\", kernel_initializer=\"he_uniform\")\n",
    "        self.dense_3 = layers.Dense(64, activation=\"linear\", kernel_initializer=\"he_uniform\")\n",
    "        self.dense_4 = layers.Dense(32, activation=\"relu\", kernel_initializer=\"he_uniform\")\n",
    "        self.dense_5 = layers.Dense(output_dim, activation=\"softmax\")\n",
    "        \n",
    "    def call(self, inputs):\n",
    "        layer = self.embdedding_1(inputs)\n",
    "        layer = self.lstm_1(layer)\n",
    "        layer = self.dense_1(layer)\n",
    "        layer = self.dense_2(layer)\n",
    "        layer = self.dense_3(layer)\n",
    "        layer = self.dense_4(layer)\n",
    "        layer = self.dense_5(layer)\n",
    "        \n",
    "        return layer"
   ]
  },
  {
   "cell_type": "code",
   "execution_count": 14,
   "id": "ec07cde9",
   "metadata": {},
   "outputs": [],
   "source": [
    "model = SpellChecker(input_dim=len(ALLOWED_CHARACTERS), output_dim=len(label_encoder.classes_))\n",
    "model.compile(\n",
    "    optimizer=tf.optimizers.Adamax(learning_rate=0.001),\n",
    "    loss=tf.losses.SparseCategoricalCrossentropy(),\n",
    "    metrics=[\"accuracy\"]\n",
    ")"
   ]
  },
  {
   "cell_type": "markdown",
   "id": "9b66d545",
   "metadata": {},
   "source": [
    "**Training**"
   ]
  },
  {
   "cell_type": "code",
   "execution_count": 17,
   "id": "277fe8a4",
   "metadata": {
    "scrolled": false
   },
   "outputs": [
    {
     "name": "stdout",
     "output_type": "stream",
     "text": [
      "Epoch 1/30\n",
      "8180/8180 [==============================] - 28s 3ms/step - loss: 7.2123 - accuracy: 0.0024 - val_loss: 6.7074 - val_accuracy: 0.0046\n",
      "Epoch 2/30\n",
      "8180/8180 [==============================] - 27s 3ms/step - loss: 6.1296 - accuracy: 0.0173 - val_loss: 5.8253 - val_accuracy: 0.0318\n",
      "Epoch 3/30\n",
      "8180/8180 [==============================] - 29s 4ms/step - loss: 5.2707 - accuracy: 0.0589 - val_loss: 5.1559 - val_accuracy: 0.0699\n",
      "Epoch 4/30\n",
      "8180/8180 [==============================] - 29s 4ms/step - loss: 4.7196 - accuracy: 0.1048 - val_loss: 4.7279 - val_accuracy: 0.1101\n",
      "Epoch 5/30\n",
      "8180/8180 [==============================] - 30s 4ms/step - loss: 4.3431 - accuracy: 0.1417 - val_loss: 4.3904 - val_accuracy: 0.1525\n",
      "Epoch 6/30\n",
      "8180/8180 [==============================] - 30s 4ms/step - loss: 4.0058 - accuracy: 0.1855 - val_loss: 4.0826 - val_accuracy: 0.1946\n",
      "Epoch 7/30\n",
      "8180/8180 [==============================] - 32s 4ms/step - loss: 3.7088 - accuracy: 0.2315 - val_loss: 3.7773 - val_accuracy: 0.2326\n",
      "Epoch 8/30\n",
      "8180/8180 [==============================] - 31s 4ms/step - loss: 3.4397 - accuracy: 0.2756 - val_loss: 3.5624 - val_accuracy: 0.2724\n",
      "Epoch 9/30\n",
      "8180/8180 [==============================] - 31s 4ms/step - loss: 3.1997 - accuracy: 0.3170 - val_loss: 3.2989 - val_accuracy: 0.3164\n",
      "Epoch 10/30\n",
      "8180/8180 [==============================] - 30s 4ms/step - loss: 2.9845 - accuracy: 0.3531 - val_loss: 3.1076 - val_accuracy: 0.3506\n",
      "Epoch 11/30\n",
      "8180/8180 [==============================] - 30s 4ms/step - loss: 2.7832 - accuracy: 0.3919 - val_loss: 2.9574 - val_accuracy: 0.3760\n",
      "Epoch 12/30\n",
      "8180/8180 [==============================] - 36s 4ms/step - loss: 2.6030 - accuracy: 0.4253 - val_loss: 2.8107 - val_accuracy: 0.3992\n",
      "Epoch 13/30\n",
      "8180/8180 [==============================] - 36s 4ms/step - loss: 2.4402 - accuracy: 0.4556 - val_loss: 2.6757 - val_accuracy: 0.4275\n",
      "Epoch 14/30\n",
      "8180/8180 [==============================] - 59s 7ms/step - loss: 2.2866 - accuracy: 0.4844 - val_loss: 2.5338 - val_accuracy: 0.4512\n",
      "Epoch 15/30\n",
      "8180/8180 [==============================] - 59s 7ms/step - loss: 2.1522 - accuracy: 0.5115 - val_loss: 2.4236 - val_accuracy: 0.4724\n",
      "Epoch 16/30\n",
      "8180/8180 [==============================] - 60s 7ms/step - loss: 2.0344 - accuracy: 0.5345 - val_loss: 2.3097 - val_accuracy: 0.4951\n",
      "Epoch 17/30\n",
      "8180/8180 [==============================] - 52s 6ms/step - loss: 1.9244 - accuracy: 0.5574 - val_loss: 2.2349 - val_accuracy: 0.5105\n",
      "Epoch 18/30\n",
      "8180/8180 [==============================] - 58s 7ms/step - loss: 1.8288 - accuracy: 0.5743 - val_loss: 2.1534 - val_accuracy: 0.5246\n",
      "Epoch 19/30\n",
      "8180/8180 [==============================] - 60s 7ms/step - loss: 1.7421 - accuracy: 0.5923 - val_loss: 2.0865 - val_accuracy: 0.5441\n",
      "Epoch 20/30\n",
      "8180/8180 [==============================] - 43s 5ms/step - loss: 1.6656 - accuracy: 0.6073 - val_loss: 2.0282 - val_accuracy: 0.5519\n",
      "Epoch 21/30\n",
      "8180/8180 [==============================] - 29s 4ms/step - loss: 1.5943 - accuracy: 0.6210 - val_loss: 1.9391 - val_accuracy: 0.5667\n",
      "Epoch 22/30\n",
      "8180/8180 [==============================] - 29s 4ms/step - loss: 1.5327 - accuracy: 0.6334 - val_loss: 1.9238 - val_accuracy: 0.5705\n",
      "Epoch 23/30\n",
      "8180/8180 [==============================] - 33s 4ms/step - loss: 1.4735 - accuracy: 0.6438 - val_loss: 1.8600 - val_accuracy: 0.5815\n",
      "Epoch 24/30\n",
      "8180/8180 [==============================] - 33s 4ms/step - loss: 1.4216 - accuracy: 0.6556 - val_loss: 1.8146 - val_accuracy: 0.5923\n",
      "Epoch 25/30\n",
      "8180/8180 [==============================] - 35s 4ms/step - loss: 1.3683 - accuracy: 0.6687 - val_loss: 1.7853 - val_accuracy: 0.6016\n",
      "Epoch 26/30\n",
      "8180/8180 [==============================] - 30s 4ms/step - loss: 1.3255 - accuracy: 0.6769 - val_loss: 1.8135 - val_accuracy: 0.5932\n"
     ]
    }
   ],
   "source": [
    "early_stopping = tf.keras.callbacks.EarlyStopping(\n",
    "    monitor=\"val_loss\",\n",
    "    mode=\"min\",\n",
    "    patience=1,\n",
    "    restore_best_weights=True\n",
    ")\n",
    "\n",
    "history = model.fit(\n",
    "    trainX, \n",
    "    trainY, \n",
    "    epochs=30, \n",
    "    batch_size=8,\n",
    "    validation_split=0.2,\n",
    "    callbacks=early_stopping\n",
    ")"
   ]
  },
  {
   "cell_type": "code",
   "execution_count": 18,
   "id": "1119ed56",
   "metadata": {},
   "outputs": [
    {
     "data": {
      "image/png": "[encoded data removed]",
      "text/plain": [
       "<Figure size 504x360 with 1 Axes>"
      ]
     },
     "metadata": {
      "needs_background": "light"
     },
     "output_type": "display_data"
    },
    {
     "data": {
      "image/png": "[encoded data removed]",
      "text/plain": [
       "<Figure size 504x360 with 1 Axes>"
      ]
     },
     "metadata": {
      "needs_background": "light"
     },
     "output_type": "display_data"
    }
   ],
   "source": [
    "plot_history(history.history, [\"loss\", \"val_loss\"], ylabel=\"Loss\")\n",
    "plot_history(history.history, [\"accuracy\", \"val_accuracy\"], ylabel=\"Accuracy\")"
   ]
  },
  {
   "cell_type": "markdown",
   "id": "9e8473e9",
   "metadata": {},
   "source": [
    "**Testing**"
   ]
  },
  {
   "cell_type": "code",
   "execution_count": 19,
   "id": "024f5e80",
   "metadata": {},
   "outputs": [
    {
     "name": "stdout",
     "output_type": "stream",
     "text": [
      "640/640 [==============================] - 2s 2ms/step - loss: 1.7989 - accuracy: 0.6003\n"
     ]
    },
    {
     "data": {
      "text/plain": [
       "[1.7989404201507568, 0.6003422737121582]"
      ]
     },
     "execution_count": 19,
     "metadata": {},
     "output_type": "execute_result"
    }
   ],
   "source": [
    "model.evaluate(testX, testY)"
   ]
  },
  {
   "cell_type": "markdown",
   "id": "a9ee9ad1",
   "metadata": {},
   "source": [
    "**Prediction**"
   ]
  },
  {
   "cell_type": "code",
   "execution_count": 22,
   "id": "ca4c7c0c",
   "metadata": {
    "scrolled": false
   },
   "outputs": [
    {
     "data": {
      "image/png": "[encoded data removed]",
      "text/plain": [
       "<Figure size 360x288 with 1 Axes>"
      ]
     },
     "metadata": {
      "needs_background": "light"
     },
     "output_type": "display_data"
    },
    {
     "data": {
      "image/png": "[encoded data removed]",
      "text/plain": [
       "<Figure size 360x288 with 1 Axes>"
      ]
     },
     "metadata": {
      "needs_background": "light"
     },
     "output_type": "display_data"
    },
    {
     "data": {
      "image/png": "[encoded data removed]",
      "text/plain": [
       "<Figure size 360x288 with 1 Axes>"
      ]
     },
     "metadata": {
      "needs_background": "light"
     },
     "output_type": "display_data"
    },
    {
     "data": {
      "image/png": "[encoded data removed]",
      "text/plain": [
       "<Figure size 360x288 with 1 Axes>"
      ]
     },
     "metadata": {
      "needs_background": "light"
     },
     "output_type": "display_data"
    },
    {
     "data": {
      "image/png": "[encoded data removed]",
      "text/plain": [
       "<Figure size 360x288 with 1 Axes>"
      ]
     },
     "metadata": {
      "needs_background": "light"
     },
     "output_type": "display_data"
    }
   ],
   "source": [
    "predX = testX[:50:10]\n",
    "trueX = [decode_string(x) for x in predX]\n",
    "trueY = label_encoder.inverse_transform(testY[:50:10])\n",
    "predY = model.predict(predX)\n",
    "\n",
    "for i in range(predY.shape[0]):\n",
    "    pred = predY[i]\n",
    "    pred = list(map(lambda x: round(x * 100, 5), pred))\n",
    "    pred = list(zip(pred, label_encoder.classes_))\n",
    "    pred = sorted(pred, key=lambda x: x[0], reverse=True)[:5]\n",
    "    pred = np.array(pred)\n",
    "    plot_predictions(pred[:, 1], pred[:, 0], title=f\"incorrect: {trueX[i]}, correct: {trueY[i]}\")"
   ]
  },
  {
   "cell_type": "code",
   "execution_count": null,
   "id": "26eca7c2",
   "metadata": {},
   "outputs": [],
   "source": []
  }
 ],
 "metadata": {
  "kernelspec": {
   "display_name": "Python 3 (ipykernel)",
   "language": "python",
   "name": "python3"
  },
  "language_info": {
   "codemirror_mode": {
    "name": "ipython",
    "version": 3
   },
   "file_extension": ".py",
   "mimetype": "text/x-python",
   "name": "python",
   "nbconvert_exporter": "python",
   "pygments_lexer": "ipython3",
   "version": "3.9.6"
  }
 },
 "nbformat": 4,
 "nbformat_minor": 5
}
