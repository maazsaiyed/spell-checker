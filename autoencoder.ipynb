{
 "cells": [
  {
   "cell_type": "markdown",
   "id": "0ffa9871",
   "metadata": {},
   "source": [
    "# Spell Checker\n",
    "\n",
    "**Autoencoder which generates correct word from misspelled words.**"
   ]
  },
  {
   "cell_type": "markdown",
   "id": "2307f126",
   "metadata": {},
   "source": [
    "**Libraries**"
   ]
  },
  {
   "cell_type": "code",
   "execution_count": 1,
   "id": "2ed03ba6",
   "metadata": {},
   "outputs": [],
   "source": [
    "import numpy as np\n",
    "import tensorflow as tf\n",
    "import matplotlib.pyplot as plt\n",
    "\n",
    "from tqdm import tqdm\n",
    "from random import randint\n",
    "from tensorflow.keras import layers\n",
    "from sklearn.model_selection import train_test_split"
   ]
  },
  {
   "cell_type": "markdown",
   "id": "0e181ed7",
   "metadata": {},
   "source": [
    "**Constants**"
   ]
  },
  {
   "cell_type": "code",
   "execution_count": 2,
   "id": "c53975d8",
   "metadata": {},
   "outputs": [],
   "source": [
    "# Words which whose length/number of character are within\n",
    "# the range [MIN_LEN, MAX_LEN] inclusive will be used.\n",
    "MIN_LEN = 3\n",
    "MAX_LEN = 10\n",
    "\n",
    "# Small alphabets will be used only, remove number or special characters.\n",
    "# Space is used for padding.\n",
    "ALLOWED_CHARACTERS = \" \" + \"\".join([chr(i) for i in range(97, 123)])"
   ]
  },
  {
   "cell_type": "code",
   "execution_count": 3,
   "id": "ac074cca",
   "metadata": {},
   "outputs": [],
   "source": [
    "def read_dataset() -> []:\n",
    "    \"\"\"\n",
    "        Reads the file that contains correct words, each on new line.\n",
    "        Preprocess the words, which inlcudes, lower case, remove special characers,\n",
    "        remove words which are not in range of [MIN_LEN, MAX_LEN],\n",
    "        remove words which contains digits or special characters.\n",
    "        \n",
    "        Returns words list.\n",
    "    \"\"\"\n",
    "    # Reading file and spliting lines into words\n",
    "    dataset = open(\"words_list.txt\", \"r\").read().split(\"\\n\")\n",
    "\n",
    "    # Striping words with space and converting to lower case\n",
    "    dataset = list(map(lambda word: word.strip().lower(), dataset))\n",
    "\n",
    "    # Filtering the words which contains special characters\n",
    "    dataset = list(filter(lambda word: word.isalpha(), dataset))\n",
    "\n",
    "    # Filtering words which are in range of min_len and max_len\n",
    "    dataset = list(filter(lambda word: MIN_LEN <= len(word) <= MAX_LEN, dataset))\n",
    "    \n",
    "    return dataset\n",
    "\n",
    "def encode_string(word: str) -> []:\n",
    "    \"\"\"\n",
    "        Parameter:\n",
    "            word: string/word to be encoded into list of numbers.\n",
    "        \n",
    "        Returns:\n",
    "            encoded_word_array: integer list of size MAX_LEN\n",
    "    \"\"\"\n",
    "    if len(word) < MAX_LEN:\n",
    "        word = word + (\" \" * (MAX_LEN - len(word)))\n",
    "    elif len(word) > MAX_LEN:\n",
    "        word = word[:MAX_LEN]\n",
    "    \n",
    "    encoded_word_array = [ALLOWED_CHARACTERS.index(char) for char in word]\n",
    "    return encoded_word_array\n",
    "\n",
    "def decode_string(encoded_word_array: []) -> str:\n",
    "    \"\"\"\n",
    "        Parameter:\n",
    "            encoded_word_array: array which was encoded by the function 'encoded_string'.\n",
    "            \n",
    "        Returns:\n",
    "            word: decoded word/string from encoded_word_array.\n",
    "    \"\"\"\n",
    "    word = \"\".join([ALLOWED_CHARACTERS[char] for char in encoded_word_array])\n",
    "    return word.strip()\n",
    "\n",
    "def plot_predictions(x, y, title=None):\n",
    "    \"\"\"\n",
    "        Plots a bar chart of prediction percentage.\n",
    "    \"\"\"\n",
    "    plt.figure(figsize=(5, 4))\n",
    "    plt.bar(x, y.astype(np.float32), color=\"teal\")\n",
    "    plt.title(title)\n",
    "    plt.xlabel(\"Words\")\n",
    "    plt.ylabel(\"Prediction %\")\n",
    "    plt.show()\n",
    "    \n",
    "def plot_history(history, labels: [], ylabel: str = None):\n",
    "    plt.figure(figsize=(7, 5))\n",
    "    for label in labels:\n",
    "        plt.plot(history[label], label=label)\n",
    "    plt.title(\"Training History\")\n",
    "    \n",
    "    if ylabel:\n",
    "        plt.ylabel(ylabel)\n",
    "    plt.xlabel(\"No. epoch\")\n",
    "    plt.legend(loc=\"upper left\")\n",
    "    plt.show()"
   ]
  },
  {
   "cell_type": "code",
   "execution_count": 4,
   "id": "42ce56d6",
   "metadata": {},
   "outputs": [],
   "source": [
    "def gen_misspelled_word(word: str, neg_words_size: int, max_displacement: int = 1) -> []:\n",
    "    \"\"\"\n",
    "        Generates misspelled word from the give words. Add random character(s) and \n",
    "        replace random character(s) to generate misspelled words. Number of character(s) that can be\n",
    "        altered depends on max_displacement.\n",
    "        \n",
    "        Parameter:\n",
    "            word: string for which misspelled words are to be generated.\n",
    "            neg_words_size: number of misspelled words to be generated.\n",
    "            max_displacement: integer within the [1, len(word)]. number of characters that can be altered.\n",
    "            \n",
    "        Returns:\n",
    "            List of misspelled words.\n",
    "    \"\"\"\n",
    "    misspelled_words = [word]\n",
    "    word_len = len(word)\n",
    "    add_rand_size = (neg_words_size - 1) // 2\n",
    "    rep_rand_size = neg_words_size - add_rand_size - 1\n",
    "\n",
    "    # Adding random character\n",
    "    for _ in range(add_rand_size):\n",
    "        rand_word = word\n",
    "\n",
    "        rand_dis = min(MAX_LEN - len(word), randint(1, max_displacement))\n",
    "        for _ in range(rand_dis):\n",
    "            rand_idx = randint(0, word_len - 1)\n",
    "            rand_chr = ALLOWED_CHARACTERS[randint(0, len(ALLOWED_CHARACTERS) - 1)]\n",
    "            rand_word = rand_word[:rand_idx] + rand_chr + rand_word[rand_idx:]\n",
    "\n",
    "        misspelled_words.append(rand_word)\n",
    "\n",
    "    # Changing random character\n",
    "    for _ in range(rep_rand_size):\n",
    "        rand_word = word\n",
    "\n",
    "        rand_dis = randint(1, max_displacement)\n",
    "        for _ in range(rand_dis):\n",
    "            rand_idx = randint(0, word_len - 1)\n",
    "            rand_chr = ALLOWED_CHARACTERS[randint(0, len(ALLOWED_CHARACTERS) - 1)]\n",
    "            rand_word = rand_word[:rand_idx] + rand_chr + rand_word[rand_idx + 1:]\n",
    "\n",
    "        misspelled_words.append(rand_word)\n",
    "\n",
    "    return misspelled_words\n",
    "\n",
    "def generate_dataset(neg_words: int, max_displacement: int = 1):\n",
    "    \"\"\"\n",
    "        Generates dataset from incorrect and correct words.\n",
    "        \n",
    "        Parameters:\n",
    "            neg_words: integer. Number of misspelled words to be generated per word.\n",
    "            max_displacement: integer within the [1, len(word)]. number of characters that can be altered.\n",
    "            \n",
    "        Returns:\n",
    "            Encoded form of misspelled words and correct words.\n",
    "    \"\"\"\n",
    "    X, y = [], []\n",
    "    \n",
    "    for word in tqdm(words_list, desc=\"Generating dataset\"):\n",
    "        X.extend([encode_string(mw) for mw in gen_misspelled_word(word, neg_words, max_displacement)])\n",
    "        y.extend([encode_string(word) for _ in range(neg_words)])\n",
    "        \n",
    "    return np.array(X), np.array(y)"
   ]
  },
  {
   "cell_type": "markdown",
   "id": "6c1065cf",
   "metadata": {},
   "source": [
    "**Reading Dataset**"
   ]
  },
  {
   "cell_type": "code",
   "execution_count": 5,
   "id": "f820e2db",
   "metadata": {},
   "outputs": [
    {
     "name": "stdout",
     "output_type": "stream",
     "text": [
      "Word Count: 2712\n"
     ]
    }
   ],
   "source": [
    "# Reading words from file\n",
    "words_list = read_dataset()\n",
    "print(\"Word Count:\", len(words_list))"
   ]
  },
  {
   "cell_type": "markdown",
   "id": "e35c315e",
   "metadata": {},
   "source": [
    "**Encoding**"
   ]
  },
  {
   "cell_type": "code",
   "execution_count": 6,
   "id": "d8a7b543",
   "metadata": {},
   "outputs": [
    {
     "name": "stderr",
     "output_type": "stream",
     "text": [
      "Generating dataset: 100%|██████████| 2712/2712 [00:01<00:00, 1807.97it/s]\n"
     ]
    },
    {
     "name": "stdout",
     "output_type": "stream",
     "text": [
      "Total size: 135600\n",
      "Train size: 108480\n",
      "Test size: 27120\n"
     ]
    }
   ],
   "source": [
    "# Generating encoded dataset from words\n",
    "X, y = generate_dataset(neg_words=50, max_displacement=2)\n",
    "\n",
    "trainX, testX, trainY, testY = train_test_split(X, y, test_size=.2)\n",
    "\n",
    "print(f\"Total size: {X.shape[0]}\")\n",
    "print(f\"Train size: {trainX.shape[0]}\")\n",
    "print(f\"Test size: {testX.shape[0]}\")"
   ]
  },
  {
   "cell_type": "markdown",
   "id": "19fef696",
   "metadata": {},
   "source": [
    "\n",
    "**Classification**"
   ]
  },
  {
   "cell_type": "code",
   "execution_count": 12,
   "id": "cd0caa71",
   "metadata": {},
   "outputs": [],
   "source": [
    "class Encoder(layers.Layer):\n",
    "    def __init__(self, input_dim: int):\n",
    "        super(Encoder, self).__init__()\n",
    "        \n",
    "        self.embdedding = layers.Embedding(input_dim=input_dim, output_dim=128)\n",
    "        self.lstm_1 = layers.Bidirectional(layers.LSTM(64, return_sequences=True))\n",
    "        self.lstm_2 = layers.Bidirectional(layers.LSTM(64))\n",
    "        \n",
    "        self.dropout_1 = layers.Dropout(0.1)\n",
    "        \n",
    "        self.dense_1 = layers.Dense(64, activation=\"relu\", kernel_initializer=\"he_uniform\")\n",
    "        self.dense_2 = layers.Dense(128, activation=\"relu\", kernel_initializer=\"he_uniform\")\n",
    "        self.dense_3 = layers.Dense(256, activation=\"relu\", kernel_initializer=\"he_uniform\")\n",
    "        self.dense_4 = layers.Dense(512, activation=\"relu\", kernel_initializer=\"he_uniform\")\n",
    "        self.dense_5 = layers.Dense(768, activation=\"relu\", kernel_initializer=\"he_uniform\")\n",
    "        \n",
    "    def call(self, inputs):\n",
    "        layer = self.embdedding(inputs)\n",
    "        layer = self.lstm_1(layer)\n",
    "        layer = self.lstm_2(layer)\n",
    "        layer = self.dropout_1(layer)\n",
    "        layer = self.dense_1(layer)\n",
    "        layer = self.dense_2(layer)\n",
    "        layer = self.dense_3(layer)\n",
    "        layer = self.dense_4(layer)\n",
    "        layer = self.dense_5(layer)\n",
    "        \n",
    "        return layer\n",
    "    \n",
    "class Decoder(layers.Layer):\n",
    "    def __init__(self, output_dim: int):\n",
    "        super(Decoder, self).__init__()\n",
    "        \n",
    "        self.dropout_1 = layers.Dropout(0.1)\n",
    "        \n",
    "        self.dense_1 = layers.Dense(512, activation=\"relu\", kernel_initializer=\"he_uniform\")\n",
    "        self.dense_2 = layers.Dense(256, activation=\"relu\", kernel_initializer=\"he_uniform\")\n",
    "        self.dense_3 = layers.Dense(128, activation=\"relu\", kernel_initializer=\"he_uniform\")\n",
    "        self.dense_4 = layers.Dense(64, activation=\"relu\", kernel_initializer=\"he_uniform\")\n",
    "        self.dense_5 = layers.Dense(32, activation=\"relu\", kernel_initializer=\"he_uniform\")\n",
    "        self.dense_6 = layers.Dense(output_dim)\n",
    "        \n",
    "    def call(self, inputs):\n",
    "        layer = self.dropout_1(inputs)\n",
    "        layer = self.dense_1(layer)\n",
    "        layer = self.dense_2(layer)\n",
    "        layer = self.dense_3(layer)\n",
    "        layer = self.dense_4(layer)\n",
    "        layer = self.dense_5(layer)\n",
    "        layer = self.dense_6(layer)\n",
    "        \n",
    "        return layer\n",
    "        \n",
    "        \n",
    "class SpellChecker(tf.keras.models.Model):\n",
    "    \"\"\"\n",
    "        Autoencoder that generates the correct words from misspelled words.\n",
    "    \"\"\"\n",
    "    def __init__(self, input_dim: int, output_dim: int):\n",
    "        super(SpellChecker, self).__init__()\n",
    "        \n",
    "        self.encoder = Encoder(input_dim=input_dim)\n",
    "        self.decoder = Decoder(output_dim=output_dim)\n",
    "        \n",
    "    def call(self, inputs):\n",
    "        layer = self.encoder(inputs)\n",
    "        layer = self.decoder(layer)\n",
    "        \n",
    "        return layer"
   ]
  },
  {
   "cell_type": "code",
   "execution_count": 14,
   "id": "ec07cde9",
   "metadata": {},
   "outputs": [],
   "source": [
    "model = SpellChecker(input_dim=len(ALLOWED_CHARACTERS), output_dim=MAX_LEN)\n",
    "model.compile(\n",
    "    optimizer=tf.optimizers.Adamax(learning_rate=0.001),\n",
    "    loss=tf.losses.mean_squared_error\n",
    ")\n",
    "\n",
    "early_stopping = tf.keras.callbacks.EarlyStopping(\n",
    "    monitor=\"val_loss\",\n",
    "    mode=\"min\",\n",
    "    patience=2,\n",
    "    restore_best_weights=True\n",
    ")"
   ]
  },
  {
   "cell_type": "markdown",
   "id": "9b66d545",
   "metadata": {},
   "source": [
    "**Training**"
   ]
  },
  {
   "cell_type": "code",
   "execution_count": 15,
   "id": "277fe8a4",
   "metadata": {
    "scrolled": false
   },
   "outputs": [
    {
     "name": "stdout",
     "output_type": "stream",
     "text": [
      "Epoch 1/100\n",
      "5424/5424 [==============================] - 65s 11ms/step - loss: 31.1098 - val_loss: 26.5872\n",
      "Epoch 2/100\n",
      "5424/5424 [==============================] - 61s 11ms/step - loss: 25.7386 - val_loss: 24.3987\n",
      "Epoch 3/100\n",
      "5424/5424 [==============================] - 68s 12ms/step - loss: 24.0987 - val_loss: 23.5490\n",
      "Epoch 4/100\n",
      "5424/5424 [==============================] - 65s 12ms/step - loss: 22.7564 - val_loss: 22.1177\n",
      "Epoch 5/100\n",
      "5424/5424 [==============================] - 65s 12ms/step - loss: 21.2909 - val_loss: 20.9537\n",
      "Epoch 6/100\n",
      "5424/5424 [==============================] - 67s 12ms/step - loss: 19.8360 - val_loss: 19.2143\n",
      "Epoch 7/100\n",
      "5424/5424 [==============================] - 67s 12ms/step - loss: 18.4083 - val_loss: 18.4169\n",
      "Epoch 8/100\n",
      "5424/5424 [==============================] - 66s 12ms/step - loss: 17.0703 - val_loss: 17.1070\n",
      "Epoch 9/100\n",
      "5424/5424 [==============================] - 68s 13ms/step - loss: 15.8021 - val_loss: 15.9165\n",
      "Epoch 10/100\n",
      "5424/5424 [==============================] - 67s 12ms/step - loss: 14.7330 - val_loss: 14.9165\n",
      "Epoch 11/100\n",
      "5424/5424 [==============================] - 68s 13ms/step - loss: 13.7328 - val_loss: 14.2484\n",
      "Epoch 12/100\n",
      "5424/5424 [==============================] - 67s 12ms/step - loss: 12.8727 - val_loss: 13.8011\n",
      "Epoch 13/100\n",
      "5424/5424 [==============================] - 68s 13ms/step - loss: 12.1353 - val_loss: 13.2237\n",
      "Epoch 14/100\n",
      "5424/5424 [==============================] - 68s 12ms/step - loss: 11.4044 - val_loss: 12.8501\n",
      "Epoch 15/100\n",
      "5424/5424 [==============================] - 68s 13ms/step - loss: 10.8283 - val_loss: 12.3658\n",
      "Epoch 16/100\n",
      "5424/5424 [==============================] - 69s 13ms/step - loss: 10.2829 - val_loss: 12.1496\n",
      "Epoch 17/100\n",
      "5424/5424 [==============================] - 68s 12ms/step - loss: 9.7544 - val_loss: 11.7925\n",
      "Epoch 18/100\n",
      "5424/5424 [==============================] - 69s 13ms/step - loss: 9.3149 - val_loss: 11.6039\n",
      "Epoch 19/100\n",
      "5424/5424 [==============================] - 69s 13ms/step - loss: 8.8965 - val_loss: 11.1186\n",
      "Epoch 20/100\n",
      "5424/5424 [==============================] - 70s 13ms/step - loss: 8.5385 - val_loss: 11.0931\n",
      "Epoch 21/100\n",
      "5424/5424 [==============================] - 69s 13ms/step - loss: 8.1330 - val_loss: 10.9109\n",
      "Epoch 22/100\n",
      "5424/5424 [==============================] - 69s 13ms/step - loss: 7.8562 - val_loss: 10.8391\n",
      "Epoch 23/100\n",
      "5424/5424 [==============================] - 70s 13ms/step - loss: 7.5280 - val_loss: 10.6746\n",
      "Epoch 24/100\n",
      "5424/5424 [==============================] - 69s 13ms/step - loss: 7.2725 - val_loss: 10.4661\n",
      "Epoch 25/100\n",
      "5424/5424 [==============================] - 71s 13ms/step - loss: 7.0244 - val_loss: 10.3990\n",
      "Epoch 26/100\n",
      "5424/5424 [==============================] - 69s 13ms/step - loss: 6.8100 - val_loss: 10.2872\n",
      "Epoch 27/100\n",
      "5424/5424 [==============================] - 69s 13ms/step - loss: 6.5947 - val_loss: 10.1891\n",
      "Epoch 28/100\n",
      "5424/5424 [==============================] - 69s 13ms/step - loss: 6.3539 - val_loss: 10.1400\n",
      "Epoch 29/100\n",
      "5424/5424 [==============================] - 70s 13ms/step - loss: 6.1820 - val_loss: 10.1082\n",
      "Epoch 30/100\n",
      "5424/5424 [==============================] - 69s 13ms/step - loss: 5.9815 - val_loss: 10.0428\n",
      "Epoch 31/100\n",
      "5424/5424 [==============================] - 73s 13ms/step - loss: 5.8155 - val_loss: 9.9427\n",
      "Epoch 32/100\n",
      "5424/5424 [==============================] - 70s 13ms/step - loss: 5.6481 - val_loss: 9.8573\n",
      "Epoch 33/100\n",
      "5424/5424 [==============================] - 71s 13ms/step - loss: 5.4978 - val_loss: 9.7475\n",
      "Epoch 34/100\n",
      "5424/5424 [==============================] - 70s 13ms/step - loss: 5.3761 - val_loss: 9.8392\n",
      "Epoch 35/100\n",
      "5424/5424 [==============================] - 71s 13ms/step - loss: 5.2197 - val_loss: 9.7955\n"
     ]
    }
   ],
   "source": [
    "history = model.fit(\n",
    "    trainX, \n",
    "    trainY, \n",
    "    epochs=100, \n",
    "    batch_size=16,\n",
    "    validation_split=.2,\n",
    "    callbacks=early_stopping\n",
    ")"
   ]
  },
  {
   "cell_type": "code",
   "execution_count": 18,
   "id": "1119ed56",
   "metadata": {},
   "outputs": [
    {
     "data": {
      "image/png": "[encoded data removed]",
      "text/plain": [
       "<Figure size 504x360 with 1 Axes>"
      ]
     },
     "metadata": {
      "needs_background": "light"
     },
     "output_type": "display_data"
    }
   ],
   "source": [
    "plot_history(history.history, [\"loss\", \"val_loss\"], ylabel=\"Loss\")"
   ]
  },
  {
   "cell_type": "markdown",
   "id": "9e8473e9",
   "metadata": {},
   "source": [
    "**Testing**"
   ]
  },
  {
   "cell_type": "code",
   "execution_count": 19,
   "id": "024f5e80",
   "metadata": {},
   "outputs": [
    {
     "name": "stdout",
     "output_type": "stream",
     "text": [
      "848/848 [==============================] - 4s 4ms/step - loss: 9.7280\n"
     ]
    },
    {
     "data": {
      "text/plain": [
       "9.728019714355469"
      ]
     },
     "execution_count": 19,
     "metadata": {},
     "output_type": "execute_result"
    }
   ],
   "source": [
    "model.evaluate(testX, testY)"
   ]
  },
  {
   "cell_type": "markdown",
   "id": "a9ee9ad1",
   "metadata": {},
   "source": [
    "**Prediction**"
   ]
  },
  {
   "cell_type": "code",
   "execution_count": 26,
   "id": "ca4c7c0c",
   "metadata": {
    "scrolled": false
   },
   "outputs": [
    {
     "name": "stdout",
     "output_type": "stream",
     "text": [
      "\n",
      "        Incorrect Word: elemaztary\n",
      "        Correct Word: elementary\n",
      "        Predited Word: eiejfltapw\n",
      "    \n",
      "\n",
      "        Incorrect Word: cntp\n",
      "        Correct Word: onto\n",
      "        Predited Word: djrc\n",
      "    \n",
      "\n",
      "        Incorrect Word: heoe\n",
      "        Correct Word: here\n",
      "        Predited Word: ieoe\n",
      "    \n",
      "\n",
      "        Incorrect Word: ktmedia\n",
      "        Correct Word: media\n",
      "        Predited Word: nicfcfa\n",
      "    \n",
      "\n",
      "        Incorrect Word: department\n",
      "        Correct Word: department\n",
      "        Predited Word: dep ssmens\n",
      "    \n"
     ]
    }
   ],
   "source": [
    "predX = testX[:50:10]\n",
    "trueX = [decode_string(x) for x in predX]\n",
    "trueY = [decode_string(x) for x in testY[:50:10]]\n",
    "predY = model.predict(predX)\n",
    "\n",
    "for i in range(predY.shape[0]):\n",
    "    print(f\"\"\"\n",
    "        Incorrect Word: {trueX[i]}\n",
    "        Correct Word: {trueY[i]}\n",
    "        Predited Word: {decode_string(predY[i].astype(np.int32))}\n",
    "    \"\"\")"
   ]
  }
 ],
 "metadata": {
  "kernelspec": {
   "display_name": "Python 3",
   "language": "python",
   "name": "python3"
  },
  "language_info": {
   "codemirror_mode": {
    "name": "ipython",
    "version": 3
   },
   "file_extension": ".py",
   "mimetype": "text/x-python",
   "name": "python",
   "nbconvert_exporter": "python",
   "pygments_lexer": "ipython3",
   "version": "3.8.2"
  }
 },
 "nbformat": 4,
 "nbformat_minor": 5
}
